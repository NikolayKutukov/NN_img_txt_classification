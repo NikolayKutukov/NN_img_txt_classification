{
  "cells": [
    {
      "cell_type": "markdown",
      "metadata": {
        "id": "AH-lUo_JBMf4"
      },
      "source": [
        "#Semestralní práce z předmětu\n",
        "## 4IZ175 Neuronové sítě a deep learning\n",
        "### Autoři: Kutukov Nikolay, Iana Minibaeva\n",
        "\n",
        "---\n",
        "\n"
      ]
    },
    {
      "cell_type": "markdown",
      "source": [
        "Imports"
      ],
      "metadata": {
        "id": "TGOnmVzb2ME2"
      }
    },
    {
      "cell_type": "code",
      "execution_count": 1,
      "metadata": {
        "id": "Q_5W-YP2Dpox"
      },
      "outputs": [],
      "source": [
        "import matplotlib.pyplot as plt\n",
        "import seaborn as sns\n",
        "import numpy as np\n",
        "import pandas as pd\n",
        "import tensorflow as tf\n",
        "import tensorflow_datasets as tfds\n",
        "from tensorflow import keras\n",
        "from tensorflow.keras import layers\n",
        "from tensorflow.keras.models import Sequential, Model\n",
        "from tensorflow.keras.utils import to_categorical\n",
        "from keras.callbacks import EarlyStopping\n",
        "from tensorflow.keras.optimizers import Adam\n",
        "from tensorflow.keras.applications import resnet50, MobileNetV2\n",
        "from tensorflow.keras.regularizers import l2\n",
        "from sklearn.metrics import accuracy_score, confusion_matrix\n",
        "from sklearn.model_selection import train_test_split\n",
        "from datetime import datetime\n",
        "import os\n",
        "import warnings\n",
        "warnings.filterwarnings('ignore')"
      ]
    },
    {
      "cell_type": "markdown",
      "metadata": {
        "id": "LqPP_x-BA_ns"
      },
      "source": [
        "## Čast 1: obraz"
      ]
    },
    {
      "cell_type": "markdown",
      "metadata": {
        "id": "aefGQSrWDTVR"
      },
      "source": [
        "### Popis Datasetu"
      ]
    },
    {
      "cell_type": "markdown",
      "metadata": {
        "id": "USw6Z9GCUzx0"
      },
      "source": [
        "Soubor dat o domácích mazlíčcích Oxford-IIIT je soubor dat o 37 kategoriích obrázků domácích mazlíčků se zhruba 200 obrázky pro každou třídu. Obrázky mají velké rozdíly v měřítku, póze a osvětlení. Ke všem obrázkům je přiřazena základní pravdivá anotace plemene.\n",
        "- **Total Samples:** 7 349 obrázků\n",
        "- **Number of Classes:** 37 plemen domácích zvířat\n",
        "- **Class Distribution:** Zhruba 200 snímků na plemeno\n",
        "- **Missing Values:** Žádné\n",
        "- **Source:** [Oxford IIIT Pet Dataset](https://www.tensorflow.org/datasets/catalog/oxford_iiit_pet)\n",
        "- **Data Splits:**\n",
        "  - **Training Set:** 3680\n",
        "  - **Validation Set:** 1669\n",
        "  - **Testing Set:** 2000\n"
      ]
    },
    {
      "cell_type": "code",
      "execution_count": 2,
      "metadata": {
        "colab": {
          "base_uri": "https://localhost:8080/"
        },
        "id": "5hXi-Ejscdiw",
        "outputId": "e2d5356a-0545-4550-c47f-d182f5a01c10"
      },
      "outputs": [
        {
          "output_type": "stream",
          "name": "stdout",
          "text": [
            "tfds.core.DatasetInfo(\n",
            "    name='oxford_iiit_pet',\n",
            "    full_name='oxford_iiit_pet/3.2.0',\n",
            "    description=\"\"\"\n",
            "    The Oxford-IIIT pet dataset is a 37 category pet image dataset with roughly 200\n",
            "    images for each class. The images have large variations in scale, pose and\n",
            "    lighting. All images have an associated ground truth annotation of breed.\n",
            "    \"\"\",\n",
            "    homepage='http://www.robots.ox.ac.uk/~vgg/data/pets/',\n",
            "    data_dir=PosixGPath('/tmp/tmpd8hy_g7qtfds'),\n",
            "    file_format=tfrecord,\n",
            "    download_size=773.52 MiB,\n",
            "    dataset_size=774.69 MiB,\n",
            "    features=FeaturesDict({\n",
            "        'file_name': Text(shape=(), dtype=string),\n",
            "        'image': Image(shape=(None, None, 3), dtype=uint8),\n",
            "        'label': ClassLabel(shape=(), dtype=int64, num_classes=37),\n",
            "        'segmentation_mask': Image(shape=(None, None, 1), dtype=uint8),\n",
            "        'species': ClassLabel(shape=(), dtype=int64, num_classes=2),\n",
            "    }),\n",
            "    supervised_keys=('image', 'label'),\n",
            "    disable_shuffling=False,\n",
            "    splits={\n",
            "        'test': <SplitInfo num_examples=3669, num_shards=4>,\n",
            "        'train': <SplitInfo num_examples=3680, num_shards=4>,\n",
            "    },\n",
            "    citation=\"\"\"@InProceedings{parkhi12a,\n",
            "      author       = \"Parkhi, O. M. and Vedaldi, A. and Zisserman, A. and Jawahar, C.~V.\",\n",
            "      title        = \"Cats and Dogs\",\n",
            "      booktitle    = \"IEEE Conference on Computer Vision and Pattern Recognition\",\n",
            "      year         = \"2012\",\n",
            "    }\"\"\",\n",
            ")\n"
          ]
        }
      ],
      "source": [
        "builder = tfds.builder(\"oxford_iiit_pet\")\n",
        "dataset_info = builder.info\n",
        "print(dataset_info)"
      ]
    },
    {
      "cell_type": "markdown",
      "metadata": {
        "id": "w7z9vFLKDa_V"
      },
      "source": [
        "### Popis Řešené Úlohy"
      ]
    },
    {
      "cell_type": "markdown",
      "metadata": {
        "id": "WknB-LVqU2UT"
      },
      "source": [
        "\n",
        "Úkolem je příprava architektury modelu pro klasifikaci obrazů zvířat, trénink a hodnocení výkonu modelu probíhá na datech z datasetu oxford_iiit_pet."
      ]
    },
    {
      "cell_type": "markdown",
      "metadata": {
        "id": "0jz_JNnLDd8E"
      },
      "source": [
        "### Předzpracování Datasetu"
      ]
    },
    {
      "cell_type": "code",
      "execution_count": 3,
      "metadata": {
        "id": "1jHrNy3aaNzz",
        "colab": {
          "base_uri": "https://localhost:8080/",
          "height": 167,
          "referenced_widgets": [
            "4ef480c8e5f64c98b61f6a9db2496f7a",
            "8b804c56732d4c578ea1e24ea6045dba",
            "cec45d7f8d9e44dfb9a15ec1947df816",
            "67360d4f28724e31ae3e84ebcf730d96",
            "67e66d72c88648549181d0cc4e4305ac",
            "4f18074d85b94a43a598475aa6c9d7bc",
            "67309e2ef7e54e5fb927c61aacf70bac",
            "68de59588639430f9e881a04ea59af97",
            "fab231c2e8c149739764eb0dd0265aaa",
            "fd953ead45134c5691b5caf757ac22ae",
            "ef65153bcec34d39a2088ba1e6dfc80e",
            "0fc4f00fda4a43519d152174db577445",
            "2318a41cb1064716ba9e60b6aaf67bd3",
            "62948b0cb84346179280911a55e835af",
            "02ecac63102e47f58aea75d2da6041f0",
            "67fbeb00e61c4e87b0c01770f614d7cd",
            "1cfb4cd2f02c454da177d4b478128666",
            "6671b1edd92042fb89024f7e9e3a4930",
            "9d65959c21eb4f5cac33d8e45eb3cf42",
            "f743c2c121e44fbea1de1c727987b03d",
            "bfc127d33f3a4134958c05009a745d18",
            "893259e1c19d4fa59f1073c34d5af89a",
            "c8248340ce714d7eb5625760442b12dc",
            "9bb51dd9aca74066819c7b333f330d99",
            "c3c9fc87638249d4ad4f00190be55703",
            "0ed128cf93c74e9f867bb04d151323c0",
            "776de2ac606a449c80d165f8f9037382",
            "39b9830fbe8c4bdfbcea2352601b5deb",
            "74e0883c117540a3aabd85a0d3aa3cd5",
            "8d6fd84de50a4537a83fb4f12960ae2f",
            "69035ffee79849d0b5edabcad31bc252",
            "9d858be3c33041cda342238bea3c3cf1",
            "5292b386181d433a91cae46b5c041ac0",
            "a366065329904392a8bb8f0468fee8e6",
            "d411a69ff7304d2585ebd934ace8a427",
            "432c3ff80347484fb037ad66c17af0af",
            "a6cdfa892abd4e52bf012a48b72ff674",
            "e456df97b4314325a3691a7739c8ed68",
            "a56fff2f9f5f446b89e915a8b97a5d56",
            "f16cd8cdcfdf4a019bf08d7b4239aa0f",
            "47ef610ebae5436ca8e8a14bb5efff54",
            "e2db716f152a4b838b2caeb47315cc93",
            "f7bb1bbada504a329443145959bca644",
            "8d3371dd15074d8eb9e7bb4014805ff6",
            "1450b91e327c4f90bb31c73d0c92d0be",
            "f0db9f8dce6d45fc9cff8953b12ba3c5",
            "f258b17735d44945a3dcd48f9bade171",
            "244f38fa356842ca810e099f22b4cc79",
            "b407bbe47f2f401783be30bd83eeeb53",
            "1317dc46064e498998db20d214946573",
            "cac206c87e104fb0aec08d98b08736da",
            "9ebadea5851948ff8be3b4a2ba25e109",
            "b3fae031469c467aac670ef7abd1c758",
            "fb3d8e3fc5dc4cac9ffc02af0f5791ee",
            "2ee36d61b13f4beb90b9dc812046d8c5",
            "868e7349abe7429ca15e6cd74ad3fe0f",
            "4e24fd99b18f44ebbdaa7db408629be2",
            "151d71d28b944c1d897f970ad156942c",
            "4a0b7b98199f418bb8ba03a60d2e5883",
            "e4bc47e898e84794844ccfc121fb3d2a",
            "8de6ee97c3a246fa9849405379b784a9",
            "b63afa9fbb494575a22b2c3dead26593",
            "e6a1e2b325364e42a975c39bfb51cb7e",
            "7ac812d2b18348acb691dd92c87e960e",
            "d5cc72aa05344d2c96ecae60eb5f2a15",
            "2dddbca1a3784c77b72b1553f7358600",
            "6d45c701e0c74d088a0e961ba631e47c",
            "a42ef45f1f814c8a9622ec0626f07151",
            "563bac02a15748848bcef56bcf1b85c3",
            "9f02657c51ae485d84a9d7024f14c582",
            "e7c45801b73846d4b6f6401e1e95c6b0",
            "b21dd32bcb7c4d95926c10138644dfc2",
            "b5216825971c4f42815914d766c500c9",
            "f70ea7d641b24dce83e8c1cf43da2fc9",
            "b422c14e660d437d9b202e0c8b6a58fa",
            "cb06035e2ed34e6a83e991100c23260b",
            "f5e2bd1a6e72472891fc6eb96c227c61",
            "7dd92a99c3cf44d9ac709574789da50c",
            "72266935a1964548b87a55401d1ce73a",
            "958f7014a8624e29bbdc5ea82fb54ed2",
            "956d0d5a3fc04a5fa8efdd8ee0be856b",
            "ded641d1167448098800b18a853ce90f",
            "c11108738ee047a2942881325961ef18",
            "84ab63bf799747b3b9027671a7bb43a8",
            "e290f4ab70a54c8299154903591e4eb3",
            "cf1ef49636b44a5eb42a39160da289e6",
            "142bce1070664f0d899c6c45824fd027",
            "f5aaf7fa724c4efe8b28ac86c948fb6b"
          ]
        },
        "outputId": "b5e3e9f4-635f-4f85-9edf-db0f25ecd60c"
      },
      "outputs": [
        {
          "output_type": "stream",
          "name": "stdout",
          "text": [
            "Downloading and preparing dataset 773.52 MiB (download: 773.52 MiB, generated: 774.69 MiB, total: 1.51 GiB) to /root/tensorflow_datasets/oxford_iiit_pet/3.2.0...\n"
          ]
        },
        {
          "output_type": "display_data",
          "data": {
            "text/plain": [
              "Dl Completed...: 0 url [00:00, ? url/s]"
            ],
            "application/vnd.jupyter.widget-view+json": {
              "version_major": 2,
              "version_minor": 0,
              "model_id": "4ef480c8e5f64c98b61f6a9db2496f7a"
            }
          },
          "metadata": {}
        },
        {
          "output_type": "display_data",
          "data": {
            "text/plain": [
              "Dl Size...: 0 MiB [00:00, ? MiB/s]"
            ],
            "application/vnd.jupyter.widget-view+json": {
              "version_major": 2,
              "version_minor": 0,
              "model_id": "0fc4f00fda4a43519d152174db577445"
            }
          },
          "metadata": {}
        },
        {
          "output_type": "display_data",
          "data": {
            "text/plain": [
              "Extraction completed...: 0 file [00:00, ? file/s]"
            ],
            "application/vnd.jupyter.widget-view+json": {
              "version_major": 2,
              "version_minor": 0,
              "model_id": "c8248340ce714d7eb5625760442b12dc"
            }
          },
          "metadata": {}
        },
        {
          "output_type": "display_data",
          "data": {
            "text/plain": [
              "Generating splits...:   0%|          | 0/2 [00:00<?, ? splits/s]"
            ],
            "application/vnd.jupyter.widget-view+json": {
              "version_major": 2,
              "version_minor": 0,
              "model_id": "a366065329904392a8bb8f0468fee8e6"
            }
          },
          "metadata": {}
        },
        {
          "output_type": "display_data",
          "data": {
            "text/plain": [
              "Generating train examples...:   0%|          | 0/3680 [00:00<?, ? examples/s]"
            ],
            "application/vnd.jupyter.widget-view+json": {
              "version_major": 2,
              "version_minor": 0,
              "model_id": "1450b91e327c4f90bb31c73d0c92d0be"
            }
          },
          "metadata": {}
        },
        {
          "output_type": "display_data",
          "data": {
            "text/plain": [
              "Shuffling /root/tensorflow_datasets/oxford_iiit_pet/3.2.0.incompleteEILA4H/oxford_iiit_pet-train.tfrecord*...:…"
            ],
            "application/vnd.jupyter.widget-view+json": {
              "version_major": 2,
              "version_minor": 0,
              "model_id": "868e7349abe7429ca15e6cd74ad3fe0f"
            }
          },
          "metadata": {}
        },
        {
          "output_type": "display_data",
          "data": {
            "text/plain": [
              "Generating test examples...:   0%|          | 0/3669 [00:00<?, ? examples/s]"
            ],
            "application/vnd.jupyter.widget-view+json": {
              "version_major": 2,
              "version_minor": 0,
              "model_id": "6d45c701e0c74d088a0e961ba631e47c"
            }
          },
          "metadata": {}
        },
        {
          "output_type": "display_data",
          "data": {
            "text/plain": [
              "Shuffling /root/tensorflow_datasets/oxford_iiit_pet/3.2.0.incompleteEILA4H/oxford_iiit_pet-test.tfrecord*...: …"
            ],
            "application/vnd.jupyter.widget-view+json": {
              "version_major": 2,
              "version_minor": 0,
              "model_id": "7dd92a99c3cf44d9ac709574789da50c"
            }
          },
          "metadata": {}
        },
        {
          "output_type": "stream",
          "name": "stdout",
          "text": [
            "Dataset oxford_iiit_pet downloaded and prepared to /root/tensorflow_datasets/oxford_iiit_pet/3.2.0. Subsequent calls will reuse this data.\n"
          ]
        }
      ],
      "source": [
        "train_ds, test_ds, val_ds = tfds.load(\"oxford_iiit_pet\", split=['train', 'test[:2000]', 'test[2000:]'], as_supervised=True)"
      ]
    },
    {
      "cell_type": "code",
      "execution_count": 4,
      "metadata": {
        "id": "dwc4EJejjA2a"
      },
      "outputs": [],
      "source": [
        "AUTOTUNE = tf.data.AUTOTUNE\n",
        "IMG_SIZE = 224\n",
        "batch_size = 32\n",
        "num_classes = 37\n",
        "\n",
        "def resize_and_rescale(image, label):\n",
        "  image = tf.cast(image, tf.float32)\n",
        "  image = tf.image.resize(image, [IMG_SIZE, IMG_SIZE])\n",
        "  #image = tf.image.resize_with_pad(image, IMG_SIZE, IMG_SIZE)\n",
        "  image = (image / 255.0)\n",
        "  label = tf.one_hot(label, num_classes)\n",
        "  return image, label\n",
        "\n",
        "train_dataset = (\n",
        "    train_ds\n",
        "    .map(resize_and_rescale, num_parallel_calls=AUTOTUNE)\n",
        "    .batch(batch_size)\n",
        "    .prefetch(AUTOTUNE)\n",
        ")\n",
        "\n",
        "validation_dataset = (\n",
        "    val_ds\n",
        "    .map(resize_and_rescale, num_parallel_calls=AUTOTUNE)\n",
        "    .batch(batch_size)\n",
        "    .prefetch(AUTOTUNE)\n",
        ")\n",
        "\n",
        "test_dataset = (\n",
        "    test_ds\n",
        "    .map(resize_and_rescale, num_parallel_calls=AUTOTUNE)\n",
        "    .batch(batch_size)\n",
        "    .prefetch(AUTOTUNE)\n",
        ")"
      ]
    },
    {
      "cell_type": "markdown",
      "metadata": {
        "id": "jELBX09QDg6e"
      },
      "source": [
        "### Modelování"
      ]
    },
    {
      "cell_type": "markdown",
      "metadata": {
        "id": "7C5_V5a3fOFb"
      },
      "source": [
        "#### CNN(3/4 vrstvy) - 30 sekund/1 minuta GPU"
      ]
    },
    {
      "cell_type": "markdown",
      "source": [
        "Convolutional Neural Networks (CNN) jsou ideální pro úlohy související s obrazem, jako je klasifikace plemen domácích zvířat v datové sadě Oxford IIIT Pet, protože mají specifické výhody v architektuře modelu:\n",
        "\n",
        "1. **Detekce vlastností**: CNN skvěle rozpoznává klíčové znaky, jako jsou tvary uší, barevné vzory a textury domácích zvířat, které jsou nezbytné pro rozlišení plemen.\n",
        "\n",
        "2. **Hierarchické učení**: CNN zpracovává obrazy ve vrstvách, počínaje jednoduchými rysy, jako jsou hrany v počátečních vrstvách, až po složité aspekty, jako jsou celé obličejové komponenty v hlubších vrstvách. Tato metoda dobře odpovídá tomu, jak jsou obrazy strukturovány, díky čemuž jsou CNN velmi efektivní pro analýzu obrazů.\n",
        "\n",
        "3. **Minimální předzpracování**: CNN si vystačí s menším množstvím předzpracování, učí se přímo ze vstupních obrazových dat a automaticky určují nejrelevantnější rysy pro danou úlohu.\n",
        "\n",
        "4. **Translation Invariance**: CNN dokáže rozpoznat naučené rysy kdekoli v obraze, což je cenná vlastnost pro tuto úlohu, kde domácí zvířata nemusí být vždy umístěna nebo orientována centrálně."
      ],
      "metadata": {
        "id": "t2Llb1aCNgC1"
      }
    },
    {
      "cell_type": "code",
      "source": [
        "cnn_model = Sequential([\n",
        "    layers.Conv2D(32, (3, 3), activation='relu', input_shape=(IMG_SIZE, IMG_SIZE, 3)),\n",
        "    layers.MaxPooling2D((2, 2)),\n",
        "    layers.Conv2D(64, (3, 3), activation='relu'),\n",
        "    layers.MaxPooling2D((2, 2)),\n",
        "    layers.Conv2D(128, (3, 3), activation='relu'),\n",
        "    layers.MaxPooling2D((2, 2)),\n",
        "    layers.Flatten(),\n",
        "    layers.Dense(128, activation='relu'),\n",
        "    layers.Dense(num_classes, activation='softmax')\n",
        "])\n",
        "\n",
        "cnn_model.compile(optimizer='adam', loss='categorical_crossentropy', metrics=['accuracy'])\n",
        "\n",
        "cnn_model.summary()"
      ],
      "metadata": {
        "id": "6XVJ3lQO9kqb",
        "colab": {
          "base_uri": "https://localhost:8080/"
        },
        "outputId": "e1147d90-27f5-4ed3-a1da-3687bc725503"
      },
      "execution_count": 5,
      "outputs": [
        {
          "output_type": "stream",
          "name": "stdout",
          "text": [
            "Model: \"sequential\"\n",
            "_________________________________________________________________\n",
            " Layer (type)                Output Shape              Param #   \n",
            "=================================================================\n",
            " conv2d (Conv2D)             (None, 222, 222, 32)      896       \n",
            "                                                                 \n",
            " max_pooling2d (MaxPooling2  (None, 111, 111, 32)      0         \n",
            " D)                                                              \n",
            "                                                                 \n",
            " conv2d_1 (Conv2D)           (None, 109, 109, 64)      18496     \n",
            "                                                                 \n",
            " max_pooling2d_1 (MaxPoolin  (None, 54, 54, 64)        0         \n",
            " g2D)                                                            \n",
            "                                                                 \n",
            " conv2d_2 (Conv2D)           (None, 52, 52, 128)       73856     \n",
            "                                                                 \n",
            " max_pooling2d_2 (MaxPoolin  (None, 26, 26, 128)       0         \n",
            " g2D)                                                            \n",
            "                                                                 \n",
            " flatten (Flatten)           (None, 86528)             0         \n",
            "                                                                 \n",
            " dense (Dense)               (None, 128)               11075712  \n",
            "                                                                 \n",
            " dense_1 (Dense)             (None, 37)                4773      \n",
            "                                                                 \n",
            "=================================================================\n",
            "Total params: 11173733 (42.62 MB)\n",
            "Trainable params: 11173733 (42.62 MB)\n",
            "Non-trainable params: 0 (0.00 Byte)\n",
            "_________________________________________________________________\n"
          ]
        }
      ]
    },
    {
      "cell_type": "code",
      "source": [
        "earlystopping_callback = keras.callbacks.EarlyStopping(monitor='val_loss', patience=5, min_delta = 0.002, restore_best_weights=True)\n",
        "\n",
        "history = cnn_model.fit(train_dataset, epochs=30, validation_data=validation_dataset, callbacks=[earlystopping_callback])\n",
        "\n",
        "test_loss, test_accuracy = cnn_model.evaluate(test_dataset)\n",
        "print(f'Test Loss: {test_loss}')\n",
        "print(f'Test Accuracy: {test_accuracy}')"
      ],
      "metadata": {
        "colab": {
          "base_uri": "https://localhost:8080/"
        },
        "id": "k0U7Lf_Jj8-p",
        "outputId": "1d639e9a-f6b2-4e2f-9670-ce0db55da728"
      },
      "execution_count": 6,
      "outputs": [
        {
          "output_type": "stream",
          "name": "stdout",
          "text": [
            "Epoch 1/30\n",
            "115/115 [==============================] - 8s 26ms/step - loss: 3.6289 - accuracy: 0.0296 - val_loss: 3.5892 - val_accuracy: 0.0371\n",
            "Epoch 2/30\n",
            "115/115 [==============================] - 3s 22ms/step - loss: 3.4426 - accuracy: 0.0802 - val_loss: 3.3843 - val_accuracy: 0.0941\n",
            "Epoch 3/30\n",
            "115/115 [==============================] - 2s 21ms/step - loss: 2.8590 - accuracy: 0.2228 - val_loss: 3.5418 - val_accuracy: 0.1055\n",
            "Epoch 4/30\n",
            "115/115 [==============================] - 2s 21ms/step - loss: 2.0056 - accuracy: 0.4489 - val_loss: 5.5956 - val_accuracy: 0.1001\n",
            "Epoch 5/30\n",
            "115/115 [==============================] - 2s 21ms/step - loss: 1.3150 - accuracy: 0.6353 - val_loss: 7.0659 - val_accuracy: 0.0863\n",
            "Epoch 6/30\n",
            "115/115 [==============================] - 3s 23ms/step - loss: 0.8346 - accuracy: 0.7832 - val_loss: 8.1300 - val_accuracy: 0.0911\n",
            "Epoch 7/30\n",
            "115/115 [==============================] - 2s 22ms/step - loss: 0.5516 - accuracy: 0.8560 - val_loss: 10.1705 - val_accuracy: 0.0995\n",
            "63/63 [==============================] - 1s 16ms/step - loss: 3.4021 - accuracy: 0.0870\n",
            "Test Loss: 3.402122974395752\n",
            "Test Accuracy: 0.08699999749660492\n"
          ]
        }
      ]
    },
    {
      "cell_type": "markdown",
      "source": [],
      "metadata": {
        "id": "Zka-bvBDNtQV"
      }
    },
    {
      "cell_type": "code",
      "source": [
        "from tensorflow.keras import layers, models\n",
        "\n",
        "cnn_model_more_layers = models.Sequential([\n",
        "    # Random Transformations to prevent overfitting\n",
        "    #layers.RandomFlip(\"horizontal\"),\n",
        "    layers.RandomRotation(0.1, input_shape=(IMG_SIZE, IMG_SIZE, 3)),\n",
        "    layers.RandomZoom(0.2),\n",
        "\n",
        "    # First convolutional layer\n",
        "    layers.Conv2D(32, (3, 3), activation='relu'),\n",
        "    layers.BatchNormalization(),\n",
        "    layers.MaxPooling2D((2, 2)),\n",
        "    layers.Dropout(0.25),\n",
        "\n",
        "    # Second convolutional layer\n",
        "    layers.Conv2D(64, (3, 3), activation='relu'),\n",
        "    layers.BatchNormalization(),\n",
        "    layers.MaxPooling2D((2, 2)),\n",
        "    layers.Dropout(0.25),\n",
        "\n",
        "    # Third convolutional layer\n",
        "    layers.Conv2D(128, (3, 3), activation='relu'),\n",
        "    layers.BatchNormalization(),\n",
        "    layers.MaxPooling2D((2, 2)),\n",
        "    layers.Dropout(0.25),\n",
        "\n",
        "    # Fourth convolutional layer\n",
        "    layers.Conv2D(256, (3, 3), activation='relu'),\n",
        "    layers.BatchNormalization(),\n",
        "    layers.MaxPooling2D((2, 2)),\n",
        "    layers.Dropout(0.25),\n",
        "\n",
        "    # Flatten the output\n",
        "    layers.Flatten(),\n",
        "\n",
        "    # Fully connected layer\n",
        "    layers.Dense(512, activation='relu'),\n",
        "    layers.BatchNormalization(),\n",
        "    layers.Dropout(0.5),\n",
        "\n",
        "    # Output layer\n",
        "    layers.Dense(num_classes, activation='softmax')\n",
        "])\n",
        "\n",
        "# Model Compilation\n",
        "cnn_model_more_layers.compile(optimizer='adam', loss='categorical_crossentropy', metrics=['accuracy'])\n",
        "\n",
        "cnn_model_more_layers.summary()"
      ],
      "metadata": {
        "colab": {
          "base_uri": "https://localhost:8080/"
        },
        "id": "Mgi6xdvTwvSF",
        "outputId": "39fa68c4-1193-4b5c-9063-b390386ac018"
      },
      "execution_count": 7,
      "outputs": [
        {
          "output_type": "stream",
          "name": "stdout",
          "text": [
            "Model: \"sequential_1\"\n",
            "_________________________________________________________________\n",
            " Layer (type)                Output Shape              Param #   \n",
            "=================================================================\n",
            " random_rotation (RandomRot  (None, 224, 224, 3)       0         \n",
            " ation)                                                          \n",
            "                                                                 \n",
            " random_zoom (RandomZoom)    (None, 224, 224, 3)       0         \n",
            "                                                                 \n",
            " conv2d_3 (Conv2D)           (None, 222, 222, 32)      896       \n",
            "                                                                 \n",
            " batch_normalization (Batch  (None, 222, 222, 32)      128       \n",
            " Normalization)                                                  \n",
            "                                                                 \n",
            " max_pooling2d_3 (MaxPoolin  (None, 111, 111, 32)      0         \n",
            " g2D)                                                            \n",
            "                                                                 \n",
            " dropout (Dropout)           (None, 111, 111, 32)      0         \n",
            "                                                                 \n",
            " conv2d_4 (Conv2D)           (None, 109, 109, 64)      18496     \n",
            "                                                                 \n",
            " batch_normalization_1 (Bat  (None, 109, 109, 64)      256       \n",
            " chNormalization)                                                \n",
            "                                                                 \n",
            " max_pooling2d_4 (MaxPoolin  (None, 54, 54, 64)        0         \n",
            " g2D)                                                            \n",
            "                                                                 \n",
            " dropout_1 (Dropout)         (None, 54, 54, 64)        0         \n",
            "                                                                 \n",
            " conv2d_5 (Conv2D)           (None, 52, 52, 128)       73856     \n",
            "                                                                 \n",
            " batch_normalization_2 (Bat  (None, 52, 52, 128)       512       \n",
            " chNormalization)                                                \n",
            "                                                                 \n",
            " max_pooling2d_5 (MaxPoolin  (None, 26, 26, 128)       0         \n",
            " g2D)                                                            \n",
            "                                                                 \n",
            " dropout_2 (Dropout)         (None, 26, 26, 128)       0         \n",
            "                                                                 \n",
            " conv2d_6 (Conv2D)           (None, 24, 24, 256)       295168    \n",
            "                                                                 \n",
            " batch_normalization_3 (Bat  (None, 24, 24, 256)       1024      \n",
            " chNormalization)                                                \n",
            "                                                                 \n",
            " max_pooling2d_6 (MaxPoolin  (None, 12, 12, 256)       0         \n",
            " g2D)                                                            \n",
            "                                                                 \n",
            " dropout_3 (Dropout)         (None, 12, 12, 256)       0         \n",
            "                                                                 \n",
            " flatten_1 (Flatten)         (None, 36864)             0         \n",
            "                                                                 \n",
            " dense_2 (Dense)             (None, 512)               18874880  \n",
            "                                                                 \n",
            " batch_normalization_4 (Bat  (None, 512)               2048      \n",
            " chNormalization)                                                \n",
            "                                                                 \n",
            " dropout_4 (Dropout)         (None, 512)               0         \n",
            "                                                                 \n",
            " dense_3 (Dense)             (None, 37)                18981     \n",
            "                                                                 \n",
            "=================================================================\n",
            "Total params: 19286245 (73.57 MB)\n",
            "Trainable params: 19284261 (73.56 MB)\n",
            "Non-trainable params: 1984 (7.75 KB)\n",
            "_________________________________________________________________\n"
          ]
        }
      ]
    },
    {
      "cell_type": "code",
      "source": [
        "earlystopping_callback = keras.callbacks.EarlyStopping(monitor='val_loss', patience=5, min_delta = 0.002, restore_best_weights=True)\n",
        "\n",
        "history_cnn = cnn_model_more_layers.fit(train_dataset, epochs=30, validation_data=validation_dataset, callbacks=[earlystopping_callback])\n",
        "\n",
        "test_loss, test_accuracy = cnn_model_more_layers.evaluate(test_dataset)\n",
        "print(f'Test Loss: {test_loss}')\n",
        "print(f'Test Accuracy: {test_accuracy}')"
      ],
      "metadata": {
        "colab": {
          "base_uri": "https://localhost:8080/"
        },
        "id": "9wTQNaMMuklJ",
        "outputId": "20343dac-08a7-4615-b378-abdb3db69ac2"
      },
      "execution_count": 8,
      "outputs": [
        {
          "output_type": "stream",
          "name": "stdout",
          "text": [
            "Epoch 1/30\n",
            "115/115 [==============================] - 11s 36ms/step - loss: 4.1774 - accuracy: 0.0671 - val_loss: 15.7952 - val_accuracy: 0.0264\n",
            "Epoch 2/30\n",
            "115/115 [==============================] - 4s 34ms/step - loss: 3.9420 - accuracy: 0.0940 - val_loss: 6.3525 - val_accuracy: 0.0383\n",
            "Epoch 3/30\n",
            "115/115 [==============================] - 4s 35ms/step - loss: 3.4376 - accuracy: 0.1516 - val_loss: 5.0497 - val_accuracy: 0.0449\n",
            "Epoch 4/30\n",
            "115/115 [==============================] - 4s 34ms/step - loss: 3.3172 - accuracy: 0.1606 - val_loss: 4.2971 - val_accuracy: 0.0641\n",
            "Epoch 5/30\n",
            "115/115 [==============================] - 4s 35ms/step - loss: 3.0214 - accuracy: 0.2092 - val_loss: 3.8407 - val_accuracy: 0.1072\n",
            "Epoch 6/30\n",
            "115/115 [==============================] - 4s 36ms/step - loss: 2.8159 - accuracy: 0.2408 - val_loss: 3.2664 - val_accuracy: 0.1684\n",
            "Epoch 7/30\n",
            "115/115 [==============================] - 4s 33ms/step - loss: 2.6140 - accuracy: 0.2723 - val_loss: 3.6152 - val_accuracy: 0.1450\n",
            "Epoch 8/30\n",
            "115/115 [==============================] - 4s 34ms/step - loss: 2.4274 - accuracy: 0.3106 - val_loss: 3.1065 - val_accuracy: 0.1881\n",
            "Epoch 9/30\n",
            "115/115 [==============================] - 4s 34ms/step - loss: 2.3242 - accuracy: 0.3435 - val_loss: 3.5524 - val_accuracy: 0.1372\n",
            "Epoch 10/30\n",
            "115/115 [==============================] - 4s 33ms/step - loss: 2.1792 - accuracy: 0.3875 - val_loss: 3.4167 - val_accuracy: 0.1474\n",
            "Epoch 11/30\n",
            "115/115 [==============================] - 4s 33ms/step - loss: 2.0081 - accuracy: 0.4277 - val_loss: 3.5941 - val_accuracy: 0.1450\n",
            "Epoch 12/30\n",
            "115/115 [==============================] - 4s 34ms/step - loss: 1.8687 - accuracy: 0.4679 - val_loss: 3.7510 - val_accuracy: 0.1252\n",
            "Epoch 13/30\n",
            "115/115 [==============================] - 4s 34ms/step - loss: 1.7667 - accuracy: 0.4875 - val_loss: 3.2742 - val_accuracy: 0.1911\n",
            "63/63 [==============================] - 1s 14ms/step - loss: 3.1667 - accuracy: 0.1725\n",
            "Test Loss: 3.1667394638061523\n",
            "Test Accuracy: 0.17249999940395355\n"
          ]
        }
      ]
    },
    {
      "cell_type": "markdown",
      "metadata": {
        "id": "nhQ77uuDfVuA"
      },
      "source": [
        "#### MLP"
      ]
    },
    {
      "cell_type": "code",
      "source": [
        "mlp_model = models.Sequential([\n",
        "    layers.Flatten(input_shape=(IMG_SIZE, IMG_SIZE, 3)),\n",
        "    layers.Dense(512, activation='relu'),\n",
        "    layers.BatchNormalization(),\n",
        "    layers.Dropout(0.5),\n",
        "    layers.Dense(256, activation='relu'),\n",
        "    layers.BatchNormalization(),\n",
        "    layers.Dropout(0.5),\n",
        "    layers.Dense(128, activation='relu'),\n",
        "    layers.BatchNormalization(),\n",
        "    layers.Dropout(0.5),\n",
        "    layers.Dense(37, activation='softmax')\n",
        "])\n",
        "\n",
        "mlp_model.compile(optimizer='adam', loss='categorical_crossentropy', metrics=['accuracy'])\n",
        "\n",
        "mlp_model.summary()"
      ],
      "metadata": {
        "id": "akk31pPP9zmJ",
        "colab": {
          "base_uri": "https://localhost:8080/"
        },
        "outputId": "9b097690-e71e-46a9-dff5-6c4a32ba21b5"
      },
      "execution_count": 9,
      "outputs": [
        {
          "output_type": "stream",
          "name": "stdout",
          "text": [
            "Model: \"sequential_2\"\n",
            "_________________________________________________________________\n",
            " Layer (type)                Output Shape              Param #   \n",
            "=================================================================\n",
            " flatten_2 (Flatten)         (None, 150528)            0         \n",
            "                                                                 \n",
            " dense_4 (Dense)             (None, 512)               77070848  \n",
            "                                                                 \n",
            " batch_normalization_5 (Bat  (None, 512)               2048      \n",
            " chNormalization)                                                \n",
            "                                                                 \n",
            " dropout_5 (Dropout)         (None, 512)               0         \n",
            "                                                                 \n",
            " dense_5 (Dense)             (None, 256)               131328    \n",
            "                                                                 \n",
            " batch_normalization_6 (Bat  (None, 256)               1024      \n",
            " chNormalization)                                                \n",
            "                                                                 \n",
            " dropout_6 (Dropout)         (None, 256)               0         \n",
            "                                                                 \n",
            " dense_6 (Dense)             (None, 128)               32896     \n",
            "                                                                 \n",
            " batch_normalization_7 (Bat  (None, 128)               512       \n",
            " chNormalization)                                                \n",
            "                                                                 \n",
            " dropout_7 (Dropout)         (None, 128)               0         \n",
            "                                                                 \n",
            " dense_7 (Dense)             (None, 37)                4773      \n",
            "                                                                 \n",
            "=================================================================\n",
            "Total params: 77243429 (294.66 MB)\n",
            "Trainable params: 77241637 (294.65 MB)\n",
            "Non-trainable params: 1792 (7.00 KB)\n",
            "_________________________________________________________________\n"
          ]
        }
      ]
    },
    {
      "cell_type": "code",
      "source": [
        "earlystopping_callback = keras.callbacks.EarlyStopping(monitor='val_loss', patience=10, min_delta = 0.002, restore_best_weights=True)\n",
        "\n",
        "history_mlp = mlp_model.fit(train_dataset, epochs=30, validation_data=validation_dataset, callbacks=[earlystopping_callback])\n",
        "\n",
        "test_loss, test_accuracy = mlp_model.evaluate(test_dataset)\n",
        "print(f'Test Loss: {test_loss}')\n",
        "print(f'Test Accuracy: {test_accuracy}')"
      ],
      "metadata": {
        "colab": {
          "base_uri": "https://localhost:8080/"
        },
        "id": "Qk3L84CNkNLY",
        "outputId": "a03b6f3a-fd48-4cda-c19e-09c622c3abc6"
      },
      "execution_count": 10,
      "outputs": [
        {
          "output_type": "stream",
          "name": "stdout",
          "text": [
            "Epoch 1/30\n",
            "115/115 [==============================] - 6s 27ms/step - loss: 4.5310 - accuracy: 0.0386 - val_loss: 4.2924 - val_accuracy: 0.0395\n",
            "Epoch 2/30\n",
            "115/115 [==============================] - 3s 25ms/step - loss: 4.1370 - accuracy: 0.0437 - val_loss: 3.5849 - val_accuracy: 0.0647\n",
            "Epoch 3/30\n",
            "115/115 [==============================] - 3s 23ms/step - loss: 3.9090 - accuracy: 0.0565 - val_loss: 3.5215 - val_accuracy: 0.0647\n",
            "Epoch 4/30\n",
            "115/115 [==============================] - 3s 23ms/step - loss: 3.7910 - accuracy: 0.0609 - val_loss: 3.4460 - val_accuracy: 0.0749\n",
            "Epoch 5/30\n",
            "115/115 [==============================] - 2s 21ms/step - loss: 3.6849 - accuracy: 0.0554 - val_loss: 3.4532 - val_accuracy: 0.0785\n",
            "Epoch 6/30\n",
            "115/115 [==============================] - 3s 26ms/step - loss: 3.6183 - accuracy: 0.0592 - val_loss: 3.4375 - val_accuracy: 0.0749\n",
            "Epoch 7/30\n",
            "115/115 [==============================] - 3s 28ms/step - loss: 3.5492 - accuracy: 0.0685 - val_loss: 3.4340 - val_accuracy: 0.0791\n",
            "Epoch 8/30\n",
            "115/115 [==============================] - 3s 24ms/step - loss: 3.5097 - accuracy: 0.0709 - val_loss: 3.4289 - val_accuracy: 0.0731\n",
            "Epoch 9/30\n",
            "115/115 [==============================] - 3s 23ms/step - loss: 3.4583 - accuracy: 0.0774 - val_loss: 3.4133 - val_accuracy: 0.0767\n",
            "Epoch 10/30\n",
            "115/115 [==============================] - 3s 23ms/step - loss: 3.4352 - accuracy: 0.0761 - val_loss: 3.4090 - val_accuracy: 0.0737\n",
            "Epoch 11/30\n",
            "115/115 [==============================] - 3s 23ms/step - loss: 3.3836 - accuracy: 0.0872 - val_loss: 3.4071 - val_accuracy: 0.0731\n",
            "Epoch 12/30\n",
            "115/115 [==============================] - 3s 23ms/step - loss: 3.3732 - accuracy: 0.0897 - val_loss: 3.3852 - val_accuracy: 0.0851\n",
            "Epoch 13/30\n",
            "115/115 [==============================] - 2s 21ms/step - loss: 3.3427 - accuracy: 0.0959 - val_loss: 3.3972 - val_accuracy: 0.0815\n",
            "Epoch 14/30\n",
            "115/115 [==============================] - 2s 21ms/step - loss: 3.3099 - accuracy: 0.0989 - val_loss: 3.3980 - val_accuracy: 0.0881\n",
            "Epoch 15/30\n",
            "115/115 [==============================] - 3s 23ms/step - loss: 3.2876 - accuracy: 0.1038 - val_loss: 3.3674 - val_accuracy: 0.0959\n",
            "Epoch 16/30\n",
            "115/115 [==============================] - 3s 24ms/step - loss: 3.2514 - accuracy: 0.1024 - val_loss: 3.3567 - val_accuracy: 0.1025\n",
            "Epoch 17/30\n",
            "115/115 [==============================] - 2s 21ms/step - loss: 3.2671 - accuracy: 0.1130 - val_loss: 3.3695 - val_accuracy: 0.0971\n",
            "Epoch 18/30\n",
            "115/115 [==============================] - 2s 22ms/step - loss: 3.2131 - accuracy: 0.1236 - val_loss: 3.4005 - val_accuracy: 0.0929\n",
            "Epoch 19/30\n",
            "115/115 [==============================] - 2s 22ms/step - loss: 3.2122 - accuracy: 0.1122 - val_loss: 3.4523 - val_accuracy: 0.0881\n",
            "Epoch 20/30\n",
            "115/115 [==============================] - 3s 22ms/step - loss: 3.2135 - accuracy: 0.1103 - val_loss: 3.4804 - val_accuracy: 0.0803\n",
            "Epoch 21/30\n",
            "115/115 [==============================] - 3s 23ms/step - loss: 3.1777 - accuracy: 0.1304 - val_loss: 3.4376 - val_accuracy: 0.0857\n",
            "Epoch 22/30\n",
            "115/115 [==============================] - 2s 21ms/step - loss: 3.1946 - accuracy: 0.1158 - val_loss: 3.4337 - val_accuracy: 0.0863\n",
            "Epoch 23/30\n",
            "115/115 [==============================] - 3s 22ms/step - loss: 3.1820 - accuracy: 0.1277 - val_loss: 3.4748 - val_accuracy: 0.0803\n",
            "Epoch 24/30\n",
            "115/115 [==============================] - 2s 21ms/step - loss: 3.1631 - accuracy: 0.1312 - val_loss: 3.4447 - val_accuracy: 0.0935\n",
            "Epoch 25/30\n",
            "115/115 [==============================] - 3s 22ms/step - loss: 3.1774 - accuracy: 0.1242 - val_loss: 3.3932 - val_accuracy: 0.0923\n",
            "Epoch 26/30\n",
            "115/115 [==============================] - 3s 25ms/step - loss: 3.1360 - accuracy: 0.1307 - val_loss: 3.3645 - val_accuracy: 0.1078\n",
            "63/63 [==============================] - 1s 14ms/step - loss: 3.3596 - accuracy: 0.0910\n",
            "Test Loss: 3.3596458435058594\n",
            "Test Accuracy: 0.09099999815225601\n"
          ]
        }
      ]
    },
    {
      "cell_type": "markdown",
      "metadata": {
        "id": "FSpqivh0fX18"
      },
      "source": [
        "#### Pretrained model"
      ]
    },
    {
      "cell_type": "code",
      "source": [
        "base_model = tf.keras.applications.MobileNetV2(input_shape=(IMG_SIZE, IMG_SIZE, 3), include_top=False, weights='imagenet')\n",
        "base_model.trainable = False\n",
        "#base_model.trainable = True\n",
        "# Let's fine-tune the top 10 layers\n",
        "for layer in base_model.layers[:-5]:\n",
        "    layer.trainable = True\n",
        "\n",
        "pretrained_model = Sequential([\n",
        "    base_model,\n",
        "    layers.GlobalAveragePooling2D(),\n",
        "    layers.Dense(128, activation='relu', kernel_regularizer=l2(0.01)),\n",
        "    layers.Dense(64, activation='relu', kernel_regularizer=l2(0.01)),\n",
        "    layers.Dense(37, activation='softmax')\n",
        "])\n",
        "\n",
        "pretrained_model.compile(optimizer='adam', loss='categorical_crossentropy', metrics=['accuracy'])\n",
        "\n",
        "pretrained_model.summary()"
      ],
      "metadata": {
        "colab": {
          "base_uri": "https://localhost:8080/"
        },
        "id": "flrA06hK9fq5",
        "outputId": "815bba39-f429-4e27-8c9e-fb85557fd929"
      },
      "execution_count": 11,
      "outputs": [
        {
          "output_type": "stream",
          "name": "stdout",
          "text": [
            "Downloading data from https://storage.googleapis.com/tensorflow/keras-applications/mobilenet_v2/mobilenet_v2_weights_tf_dim_ordering_tf_kernels_1.0_224_no_top.h5\n",
            "9406464/9406464 [==============================] - 2s 0us/step\n",
            "Model: \"sequential_3\"\n",
            "_________________________________________________________________\n",
            " Layer (type)                Output Shape              Param #   \n",
            "=================================================================\n",
            " mobilenetv2_1.00_224 (Func  (None, 7, 7, 1280)        2257984   \n",
            " tional)                                                         \n",
            "                                                                 \n",
            " global_average_pooling2d (  (None, 1280)              0         \n",
            " GlobalAveragePooling2D)                                         \n",
            "                                                                 \n",
            " dense_8 (Dense)             (None, 128)               163968    \n",
            "                                                                 \n",
            " dense_9 (Dense)             (None, 64)                8256      \n",
            "                                                                 \n",
            " dense_10 (Dense)            (None, 37)                2405      \n",
            "                                                                 \n",
            "=================================================================\n",
            "Total params: 2432613 (9.28 MB)\n",
            "Trainable params: 174629 (682.14 KB)\n",
            "Non-trainable params: 2257984 (8.61 MB)\n",
            "_________________________________________________________________\n"
          ]
        }
      ]
    },
    {
      "cell_type": "code",
      "source": [
        "earlystopping_callback = keras.callbacks.EarlyStopping(monitor='val_loss', patience=10, min_delta = 0.002, restore_best_weights=True)\n",
        "history_pretrain = pretrained_model.fit(train_dataset, epochs=20, validation_data=validation_dataset, callbacks=[earlystopping_callback])\n",
        "\n",
        "test_loss, test_accuracy = pretrained_model.evaluate(test_dataset)\n",
        "print(f'Test Loss: {test_loss}')\n",
        "print(f'Test Accuracy: {test_accuracy}')"
      ],
      "metadata": {
        "colab": {
          "base_uri": "https://localhost:8080/"
        },
        "id": "fXDy17qZ-QES",
        "outputId": "e0569617-9bbd-4ab9-eb85-0fc2e8e6ffe9"
      },
      "execution_count": 12,
      "outputs": [
        {
          "output_type": "stream",
          "name": "stdout",
          "text": [
            "Epoch 1/20\n",
            "115/115 [==============================] - 8s 36ms/step - loss: 4.0619 - accuracy: 0.5505 - val_loss: 2.5576 - val_accuracy: 0.7579\n",
            "Epoch 2/20\n",
            "115/115 [==============================] - 3s 27ms/step - loss: 2.0054 - accuracy: 0.8462 - val_loss: 1.9027 - val_accuracy: 0.7891\n",
            "Epoch 3/20\n",
            "115/115 [==============================] - 3s 27ms/step - loss: 1.4733 - accuracy: 0.9000 - val_loss: 1.5494 - val_accuracy: 0.8107\n",
            "Epoch 4/20\n",
            "115/115 [==============================] - 3s 27ms/step - loss: 1.2062 - accuracy: 0.9239 - val_loss: 1.3597 - val_accuracy: 0.8262\n",
            "Epoch 5/20\n",
            "115/115 [==============================] - 3s 27ms/step - loss: 1.0540 - accuracy: 0.9389 - val_loss: 1.2502 - val_accuracy: 0.8424\n",
            "Epoch 6/20\n",
            "115/115 [==============================] - 3s 27ms/step - loss: 0.9633 - accuracy: 0.9473 - val_loss: 1.1883 - val_accuracy: 0.8472\n",
            "Epoch 7/20\n",
            "115/115 [==============================] - 3s 27ms/step - loss: 0.9038 - accuracy: 0.9503 - val_loss: 1.1426 - val_accuracy: 0.8466\n",
            "Epoch 8/20\n",
            "115/115 [==============================] - 3s 27ms/step - loss: 0.8610 - accuracy: 0.9524 - val_loss: 1.1209 - val_accuracy: 0.8418\n",
            "Epoch 9/20\n",
            "115/115 [==============================] - 3s 27ms/step - loss: 0.8319 - accuracy: 0.9549 - val_loss: 1.1089 - val_accuracy: 0.8412\n",
            "Epoch 10/20\n",
            "115/115 [==============================] - 3s 27ms/step - loss: 0.8068 - accuracy: 0.9557 - val_loss: 1.0971 - val_accuracy: 0.8322\n",
            "Epoch 11/20\n",
            "115/115 [==============================] - 3s 26ms/step - loss: 0.7798 - accuracy: 0.9582 - val_loss: 1.0833 - val_accuracy: 0.8322\n",
            "Epoch 12/20\n",
            "115/115 [==============================] - 3s 27ms/step - loss: 0.7549 - accuracy: 0.9595 - val_loss: 1.0559 - val_accuracy: 0.8340\n",
            "Epoch 13/20\n",
            "115/115 [==============================] - 3s 27ms/step - loss: 0.7360 - accuracy: 0.9625 - val_loss: 1.0379 - val_accuracy: 0.8304\n",
            "Epoch 14/20\n",
            "115/115 [==============================] - 3s 26ms/step - loss: 0.7163 - accuracy: 0.9641 - val_loss: 1.0425 - val_accuracy: 0.8286\n",
            "Epoch 15/20\n",
            "115/115 [==============================] - 3s 26ms/step - loss: 0.6974 - accuracy: 0.9663 - val_loss: 1.0562 - val_accuracy: 0.8268\n",
            "Epoch 16/20\n",
            "115/115 [==============================] - 3s 27ms/step - loss: 0.6877 - accuracy: 0.9636 - val_loss: 1.0544 - val_accuracy: 0.8274\n",
            "Epoch 17/20\n",
            "115/115 [==============================] - 3s 26ms/step - loss: 0.6890 - accuracy: 0.9622 - val_loss: 1.0505 - val_accuracy: 0.8286\n",
            "Epoch 18/20\n",
            "115/115 [==============================] - 3s 26ms/step - loss: 0.7098 - accuracy: 0.9489 - val_loss: 1.1170 - val_accuracy: 0.8077\n",
            "Epoch 19/20\n",
            "115/115 [==============================] - 3s 26ms/step - loss: 0.7416 - accuracy: 0.9345 - val_loss: 1.1388 - val_accuracy: 0.7939\n",
            "Epoch 20/20\n",
            "115/115 [==============================] - 3s 27ms/step - loss: 0.7220 - accuracy: 0.9429 - val_loss: 1.0697 - val_accuracy: 0.8161\n",
            "63/63 [==============================] - 1s 15ms/step - loss: 1.1295 - accuracy: 0.7930\n",
            "Test Loss: 1.129530429840088\n",
            "Test Accuracy: 0.7929999828338623\n"
          ]
        }
      ]
    },
    {
      "cell_type": "markdown",
      "metadata": {
        "id": "T1Dv3iiTDlbA"
      },
      "source": [
        "### Evaluace Modelů"
      ]
    },
    {
      "cell_type": "code",
      "execution_count": 13,
      "metadata": {
        "id": "Gaxez0EhDrAl",
        "colab": {
          "base_uri": "https://localhost:8080/",
          "height": 718
        },
        "outputId": "f58e2069-1320-4f19-c4eb-06a1b346a5fc"
      },
      "outputs": [
        {
          "output_type": "display_data",
          "data": {
            "text/plain": [
              "<Figure size 1200x800 with 1 Axes>"
            ],
            "image/png": "[encoded data removed]"
          },
          "metadata": {}
        }
      ],
      "source": [
        "import matplotlib.pyplot as plt\n",
        "\n",
        "# Function to plot accuracy\n",
        "def plot_accuracy(history, label, color):\n",
        "    accuracy = history.history['accuracy']\n",
        "    val_accuracy = history.history['val_accuracy']\n",
        "    epochs = range(len(accuracy))\n",
        "\n",
        "    plt.plot(epochs, accuracy, '--', label=f'Training Accuracy {label}', color=color)\n",
        "    plt.plot(epochs, val_accuracy, label=f'Validation Accuracy {label}', color=color)\n",
        "\n",
        "plt.figure(figsize=(12, 8))\n",
        "\n",
        "plot_accuracy(history_cnn, 'CNN 4 Layer', 'blue')\n",
        "plot_accuracy(history_mlp, 'MLP', 'green')\n",
        "plot_accuracy(history_pretrain, 'Fine-tuned Pretrained', 'red')\n",
        "# Add titles and labels\n",
        "plt.title('Training and Validation Accuracy')\n",
        "plt.xlabel('Epochs')\n",
        "plt.ylabel('Accuracy')\n",
        "plt.legend()\n",
        "plt.xticks(range(0,21,2))\n",
        "# Show the plot\n",
        "plt.show()"
      ]
    },
    {
      "cell_type": "markdown",
      "metadata": {
        "id": "7kEOICwyBHnj"
      },
      "source": [
        "## Čast 2: text"
      ]
    },
    {
      "cell_type": "markdown",
      "metadata": {
        "id": "hNHi-ZoJRZpd"
      },
      "source": [
        "### Popis Datasetu"
      ]
    },
    {
      "cell_type": "code",
      "execution_count": 14,
      "metadata": {
        "id": "KND3cpY4RZpd",
        "colab": {
          "base_uri": "https://localhost:8080/"
        },
        "outputId": "2ff40557-5df7-4454-b304-95db4d1f2ede"
      },
      "outputs": [
        {
          "output_type": "stream",
          "name": "stdout",
          "text": [
            "Mounted at /content/drive\n"
          ]
        }
      ],
      "source": [
        "from google.colab import drive\n",
        "drive.mount('/content/drive')"
      ]
    },
    {
      "cell_type": "code",
      "source": [
        "dataframe = pd.read_csv('drive/MyDrive/amazon_reviews_us_Software_v1_00.tsv', sep='\\t', on_bad_lines='skip')\n",
        "subset_df = dataframe.sample(n=80000, random_state=42)\n",
        "subset_df = subset_df.dropna(subset=['review_body'])"
      ],
      "metadata": {
        "id": "skt5dJegmdXM"
      },
      "execution_count": 15,
      "outputs": []
    },
    {
      "cell_type": "markdown",
      "metadata": {
        "id": "AvT7yNSZRZpd"
      },
      "source": [
        "### Popis Řešené Úlohy"
      ]
    },
    {
      "cell_type": "markdown",
      "source": [],
      "metadata": {
        "id": "MQe5vWinlnsC"
      }
    },
    {
      "cell_type": "markdown",
      "metadata": {
        "id": "45UjtWI_RZpd"
      },
      "source": [
        "### Předzpracování Datasetu"
      ]
    },
    {
      "cell_type": "code",
      "source": [
        "import tensorflow as tf\n",
        "# mapování pětihvězdičkového hodnocení na negativní, neutrální a pozitivní recenze\n",
        "def add_binning(x):\n",
        "  if x in [1,2]:\n",
        "    return 0\n",
        "  elif x == 3:\n",
        "    return 1\n",
        "  elif x in [4,5]:\n",
        "    return 2\n",
        "  else:\n",
        "    return -1\n",
        "# převod tensoru fo numpy.array\n",
        "def to_numpy(y_true):\n",
        "  arr = []\n",
        "  for element in y_true.as_numpy_iterator():\n",
        "    arr.append(element)\n",
        "  return np.concatenate(arr)\n",
        "\n",
        "X, y = subset_df['review_body'], subset_df['star_rating']\n",
        "X, y = X, y.apply(add_binning)\n",
        "\n",
        "X_train, X_test, y_train, y_test = train_test_split(X, y, test_size=0.1, stratify=y, random_state=42)\n",
        "X_train, X_val, y_train, y_val = train_test_split(X_train, y_train, test_size=0.1, stratify=y_train, random_state=42)\n",
        "\n",
        "# Convert to TensorFlow datasets\n",
        "train_dataset = tf.data.Dataset.from_tensor_slices((X_train, y_train))\n",
        "val_dataset = tf.data.Dataset.from_tensor_slices((X_val, y_val))\n",
        "test_dataset = tf.data.Dataset.from_tensor_slices((X_test, y_test))\n",
        "\n",
        "BATCH_SIZE = 32\n",
        "SHUFFLE_BUFFER_SIZE = 10000\n",
        "\n",
        "# Prepare the datasets\n",
        "train_dataset = train_dataset.shuffle(SHUFFLE_BUFFER_SIZE).batch(BATCH_SIZE).prefetch(tf.data.AUTOTUNE)\n",
        "val_dataset = val_dataset.batch(BATCH_SIZE).prefetch(tf.data.AUTOTUNE)\n",
        "test_dataset = test_dataset.batch(BATCH_SIZE).prefetch(tf.data.AUTOTUNE)"
      ],
      "metadata": {
        "id": "BhwfjRke7XL1"
      },
      "execution_count": 16,
      "outputs": []
    },
    {
      "cell_type": "code",
      "source": [
        "from tensorflow.keras.layers import TextVectorization\n",
        "max_len = 200\n",
        "text_vectorization = TextVectorization(\n",
        "    ngrams=1,\n",
        "    max_tokens=5000,\n",
        "    output_mode=\"int\",\n",
        "    output_sequence_length=max_len\n",
        ")\n",
        "text_vectorization.adapt(train_dataset.map(lambda x, y: x))"
      ],
      "metadata": {
        "id": "Ue2NZQILF72H"
      },
      "execution_count": 17,
      "outputs": []
    },
    {
      "cell_type": "code",
      "source": [
        "import tensorflow as tf\n",
        "\n",
        "AUTOTUNE = tf.data.AUTOTUNE\n",
        "\n",
        "train_ds = train_dataset.map(\n",
        "    lambda x, y: (text_vectorization(x), y),\n",
        "    num_parallel_calls=AUTOTUNE)\n",
        "\n",
        "validation_ds = val_dataset.map(\n",
        "    lambda x, y: (text_vectorization(x), y),\n",
        "    num_parallel_calls=AUTOTUNE)\n",
        "\n",
        "test_ds = test_dataset.map(\n",
        "    lambda x, y: (text_vectorization(x), y),\n",
        "    num_parallel_calls=AUTOTUNE)"
      ],
      "metadata": {
        "id": "nHKCaZ3fIQgG"
      },
      "execution_count": 18,
      "outputs": []
    },
    {
      "cell_type": "markdown",
      "metadata": {
        "id": "ccn3QXtjRZpd"
      },
      "source": [
        "### Modelování"
      ]
    },
    {
      "cell_type": "markdown",
      "source": [
        "#### MLP - 1 minuta"
      ],
      "metadata": {
        "id": "bb1QQcxdT6Z1"
      }
    },
    {
      "cell_type": "code",
      "execution_count": 19,
      "metadata": {
        "id": "LQzb9chCRZpd",
        "colab": {
          "base_uri": "https://localhost:8080/"
        },
        "outputId": "1d18b43a-ddc9-432a-c23a-5015dd7258aa"
      },
      "outputs": [
        {
          "output_type": "stream",
          "name": "stdout",
          "text": [
            "Model: \"sequential_4\"\n",
            "_________________________________________________________________\n",
            " Layer (type)                Output Shape              Param #   \n",
            "=================================================================\n",
            " embedding (Embedding)       (None, 200, 64)           640000    \n",
            "                                                                 \n",
            " flatten_3 (Flatten)         (None, 12800)             0         \n",
            "                                                                 \n",
            " dense_11 (Dense)            (None, 64)                819264    \n",
            "                                                                 \n",
            " dropout_8 (Dropout)         (None, 64)                0         \n",
            "                                                                 \n",
            " dense_12 (Dense)            (None, 32)                2080      \n",
            "                                                                 \n",
            " dropout_9 (Dropout)         (None, 32)                0         \n",
            "                                                                 \n",
            " dense_13 (Dense)            (None, 3)                 99        \n",
            "                                                                 \n",
            "=================================================================\n",
            "Total params: 1461443 (5.57 MB)\n",
            "Trainable params: 1461443 (5.57 MB)\n",
            "Non-trainable params: 0 (0.00 Byte)\n",
            "_________________________________________________________________\n"
          ]
        }
      ],
      "source": [
        "from tensorflow.keras.layers import Embedding, GRU, Dense, GlobalAveragePooling1D, SimpleRNN, Flatten, Dropout\n",
        "from tensorflow.keras.models import Sequential\n",
        "from keras.regularizers import l2\n",
        "import keras\n",
        "# Parameters\n",
        "max_tokens = 10000  # Same as the max_tokens used in TextVectorization\n",
        "embedding_dim = 64\n",
        "num_classes = 3\n",
        "\n",
        "# Build the model\n",
        "mlp_model_2 = Sequential([\n",
        "    layers.Embedding(max_tokens, embedding_dim, input_length=max_len),\n",
        "    layers.Flatten(),\n",
        "    layers.Dense(64, activation='relu', kernel_regularizer=l2(0.01)),\n",
        "    layers.Dropout(0.3),\n",
        "    layers.Dense(32, activation='relu', kernel_regularizer=l2(0.01)),\n",
        "    layers.Dropout(0.3),\n",
        "    layers.Dense(num_classes, activation='softmax')  # Softmax for multi-class classification\n",
        "])\n",
        "\n",
        "# Compile the model\n",
        "mlp_model_2.compile(optimizer='adam',\n",
        "              loss='sparse_categorical_crossentropy',  # Use sparse_categorical_crossentropy for integer labels\n",
        "              metrics=['accuracy'])\n",
        "\n",
        "# Print the model summary\n",
        "mlp_model_2.summary()"
      ]
    },
    {
      "cell_type": "code",
      "source": [
        "earlystopping_callback = keras.callbacks.EarlyStopping(monitor='val_loss', patience=5, min_delta = 0.002, restore_best_weights=True)\n",
        "\n",
        "history_mlp_2 = mlp_model_2.fit(train_ds, epochs=15, validation_data=validation_ds, callbacks=[earlystopping_callback])\n",
        "\n",
        "# Evaluate the model on the test set\n",
        "test_loss, test_accuracy = mlp_model_2.evaluate(test_ds)\n",
        "print(f'Test Loss: {test_loss}')\n",
        "print(f'Test Accuracy: {test_accuracy}')"
      ],
      "metadata": {
        "colab": {
          "base_uri": "https://localhost:8080/"
        },
        "id": "vtdnCgZOOikE",
        "outputId": "59a3c175-fbbb-4c84-c559-1914a1c70429"
      },
      "execution_count": 20,
      "outputs": [
        {
          "output_type": "stream",
          "name": "stdout",
          "text": [
            "Epoch 1/15\n",
            "2025/2025 [==============================] - 67s 32ms/step - loss: 0.7952 - accuracy: 0.7631 - val_loss: 0.6802 - val_accuracy: 0.8044\n",
            "Epoch 2/15\n",
            "2025/2025 [==============================] - 13s 6ms/step - loss: 0.6861 - accuracy: 0.8049 - val_loss: 0.6796 - val_accuracy: 0.8072\n",
            "Epoch 3/15\n",
            "2025/2025 [==============================] - 11s 6ms/step - loss: 0.6759 - accuracy: 0.8172 - val_loss: 0.7379 - val_accuracy: 0.7904\n",
            "Epoch 4/15\n",
            "2025/2025 [==============================] - 9s 4ms/step - loss: 0.6743 - accuracy: 0.8236 - val_loss: 0.7261 - val_accuracy: 0.8082\n",
            "Epoch 5/15\n",
            "2025/2025 [==============================] - 9s 4ms/step - loss: 0.6755 - accuracy: 0.8353 - val_loss: 0.7730 - val_accuracy: 0.8036\n",
            "Epoch 6/15\n",
            "2025/2025 [==============================] - 8s 4ms/step - loss: 0.6737 - accuracy: 0.8452 - val_loss: 0.8222 - val_accuracy: 0.8026\n",
            "250/250 [==============================] - 1s 2ms/step - loss: 0.6782 - accuracy: 0.8015\n",
            "Test Loss: 0.6782498955726624\n",
            "Test Accuracy: 0.8015000224113464\n"
          ]
        }
      ]
    },
    {
      "cell_type": "code",
      "source": [
        "from sklearn.metrics import confusion_matrix\n",
        "import matplotlib.pyplot as plt\n",
        "import seaborn as sns\n",
        "import numpy as np\n",
        "\n",
        "# def to_numpy(y_true):\n",
        "#   arr = []\n",
        "#   for element in y_true.as_numpy_iterator():\n",
        "#     arr.append(element)\n",
        "#   return np.concatenate(arr)\n",
        "\n",
        "# Generate predictions\n",
        "y_pred = mlp_model_2.predict(test_ds.map(lambda x, y: x))\n",
        "y_pred_classes = y_pred.argmax(axis=1)\n",
        "y_true = test_ds.map(lambda x, y: y)\n",
        "y_true = to_numpy(y_true)"
      ],
      "metadata": {
        "colab": {
          "base_uri": "https://localhost:8080/"
        },
        "id": "8vqneNIhT4HK",
        "outputId": "95324173-a4ef-4b41-cb79-582082610d14"
      },
      "execution_count": 21,
      "outputs": [
        {
          "output_type": "stream",
          "name": "stdout",
          "text": [
            "250/250 [==============================] - 0s 1ms/step\n"
          ]
        }
      ]
    },
    {
      "cell_type": "markdown",
      "source": [
        "#### GRU"
      ],
      "metadata": {
        "id": "L5Wsn51hfFhw"
      }
    },
    {
      "cell_type": "code",
      "source": [
        "\n",
        "from keras.regularizers import l2\n",
        "import keras\n",
        "# Parameters\n",
        "max_tokens = 10000  # Same as the max_tokens used in TextVectorization\n",
        "embedding_dim = 64\n",
        "num_classes = 3  # For the five-star rating system\n",
        "\n",
        "# Build the model\n",
        "model_gru = Sequential([\n",
        "    layers.Embedding(max_tokens, embedding_dim, input_length=max_len),\n",
        "    layers.GRU(128, return_sequences=False),\n",
        "    layers.Dense(64, activation='relu', kernel_regularizer=l2(0.01)),\n",
        "    layers.Dense(32, activation='relu', kernel_regularizer=l2(0.01)),\n",
        "    layers.Dense(num_classes, activation='softmax')  # Softmax for multi-class classification\n",
        "])\n",
        "\n",
        "# Compile the model\n",
        "model_gru.compile(optimizer='adam',\n",
        "              loss='sparse_categorical_crossentropy',  # Use sparse_categorical_crossentropy for integer labels\n",
        "              metrics=['accuracy'])\n",
        "\n",
        "# Print the model summary\n",
        "model_gru.summary()"
      ],
      "metadata": {
        "colab": {
          "base_uri": "https://localhost:8080/"
        },
        "id": "8a1ynzyffLOw",
        "outputId": "eb372ec2-8fe0-407c-d0f0-38d5b95c8376"
      },
      "execution_count": 23,
      "outputs": [
        {
          "output_type": "stream",
          "name": "stdout",
          "text": [
            "Model: \"sequential_6\"\n",
            "_________________________________________________________________\n",
            " Layer (type)                Output Shape              Param #   \n",
            "=================================================================\n",
            " embedding_2 (Embedding)     (None, 200, 64)           640000    \n",
            "                                                                 \n",
            " gru_1 (GRU)                 (None, 128)               74496     \n",
            "                                                                 \n",
            " dense_17 (Dense)            (None, 64)                8256      \n",
            "                                                                 \n",
            " dense_18 (Dense)            (None, 32)                2080      \n",
            "                                                                 \n",
            " dense_19 (Dense)            (None, 3)                 99        \n",
            "                                                                 \n",
            "=================================================================\n",
            "Total params: 724931 (2.77 MB)\n",
            "Trainable params: 724931 (2.77 MB)\n",
            "Non-trainable params: 0 (0.00 Byte)\n",
            "_________________________________________________________________\n"
          ]
        }
      ]
    },
    {
      "cell_type": "code",
      "source": [
        "earlystopping_callback = keras.callbacks.EarlyStopping(monitor='val_loss', patience=10, min_delta = 0.002, restore_best_weights=True)\n",
        "\n",
        "history_gru = model_gru.fit(train_ds, epochs=20, validation_data=validation_ds, callbacks=[earlystopping_callback])\n",
        "\n",
        "# Evaluate the model on the test set\n",
        "test_loss, test_accuracy = model_gru.evaluate(test_ds)\n",
        "print(f'Test Loss: {test_loss}')\n",
        "print(f'Test Accuracy: {test_accuracy}')"
      ],
      "metadata": {
        "colab": {
          "base_uri": "https://localhost:8080/"
        },
        "id": "iHDP9oVWo0tL",
        "outputId": "89448e28-c332-49da-9446-2c3d12648d30"
      },
      "execution_count": 24,
      "outputs": [
        {
          "output_type": "stream",
          "name": "stdout",
          "text": [
            "Epoch 1/20\n",
            "2025/2025 [==============================] - 57s 27ms/step - loss: 0.7287 - accuracy: 0.7378 - val_loss: 0.5277 - val_accuracy: 0.8147\n",
            "Epoch 2/20\n",
            "2025/2025 [==============================] - 24s 12ms/step - loss: 0.4869 - accuracy: 0.8291 - val_loss: 0.4742 - val_accuracy: 0.8346\n",
            "Epoch 3/20\n",
            "2025/2025 [==============================] - 23s 11ms/step - loss: 0.4395 - accuracy: 0.8452 - val_loss: 0.4656 - val_accuracy: 0.8347\n",
            "Epoch 4/20\n",
            "2025/2025 [==============================] - 20s 10ms/step - loss: 0.4060 - accuracy: 0.8546 - val_loss: 0.4770 - val_accuracy: 0.8329\n",
            "Epoch 5/20\n",
            "2025/2025 [==============================] - 21s 10ms/step - loss: 0.3746 - accuracy: 0.8631 - val_loss: 0.4733 - val_accuracy: 0.8308\n",
            "Epoch 6/20\n",
            "2025/2025 [==============================] - 22s 11ms/step - loss: 0.3448 - accuracy: 0.8738 - val_loss: 0.5023 - val_accuracy: 0.8289\n",
            "Epoch 7/20\n",
            "2025/2025 [==============================] - 21s 10ms/step - loss: 0.3153 - accuracy: 0.8846 - val_loss: 0.5165 - val_accuracy: 0.8253\n",
            "Epoch 8/20\n",
            "2025/2025 [==============================] - 20s 10ms/step - loss: 0.2895 - accuracy: 0.8952 - val_loss: 0.5273 - val_accuracy: 0.8219\n",
            "Epoch 9/20\n",
            "2025/2025 [==============================] - 21s 10ms/step - loss: 0.2650 - accuracy: 0.9082 - val_loss: 0.5849 - val_accuracy: 0.8064\n",
            "Epoch 10/20\n",
            "2025/2025 [==============================] - 20s 10ms/step - loss: 0.2437 - accuracy: 0.9169 - val_loss: 0.6412 - val_accuracy: 0.8107\n",
            "Epoch 11/20\n",
            "2025/2025 [==============================] - 20s 10ms/step - loss: 0.2236 - accuracy: 0.9262 - val_loss: 0.6638 - val_accuracy: 0.8131\n",
            "Epoch 12/20\n",
            "2025/2025 [==============================] - 20s 10ms/step - loss: 0.2038 - accuracy: 0.9352 - val_loss: 0.6699 - val_accuracy: 0.8065\n",
            "Epoch 13/20\n",
            "2025/2025 [==============================] - 20s 10ms/step - loss: 0.1891 - accuracy: 0.9412 - val_loss: 0.6450 - val_accuracy: 0.7968\n",
            "250/250 [==============================] - 1s 5ms/step - loss: 0.4702 - accuracy: 0.8328\n",
            "Test Loss: 0.47016438841819763\n",
            "Test Accuracy: 0.8327500224113464\n"
          ]
        }
      ]
    },
    {
      "cell_type": "markdown",
      "metadata": {
        "id": "GexcGANgRZpd"
      },
      "source": [
        "### Evaluace Modelů"
      ]
    },
    {
      "cell_type": "code",
      "source": [
        "y_pred = mlp_model_2.predict(test_ds.map(lambda x, y: x))\n",
        "y_pred_classes = y_pred.argmax(axis=1)\n",
        "y_true = test_ds.map(lambda x, y: y)\n",
        "y_true = to_numpy(y_true)\n",
        "\n",
        "conf_matrix = confusion_matrix(y_true, y_pred_classes)\n",
        "test_accuracy = accuracy_score(y_true, y_pred_classes)\n",
        "\n",
        "plt.figure(figsize=(8, 6))\n",
        "sns.heatmap(conf_matrix, annot=True, fmt='d', cmap='Blues', xticklabels=np.unique(y_true), yticklabels=np.unique(y_true))\n",
        "plt.xlabel('Predicted')\n",
        "plt.ylabel('Actual')\n",
        "plt.title(f'Confusion Matrix MLP\\nTest Accuracy: {test_accuracy:.2f}')\n",
        "plt.show()"
      ],
      "metadata": {
        "colab": {
          "base_uri": "https://localhost:8080/",
          "height": 602
        },
        "id": "X2n5tHFYWBLC",
        "outputId": "998da603-af1d-4e27-f09d-092cc9784139"
      },
      "execution_count": 25,
      "outputs": [
        {
          "output_type": "stream",
          "name": "stdout",
          "text": [
            "250/250 [==============================] - 0s 1ms/step\n"
          ]
        },
        {
          "output_type": "display_data",
          "data": {
            "text/plain": [
              "<Figure size 800x600 with 2 Axes>"
            ],
            "image/png": "[encoded data removed]"
          },
          "metadata": {}
        }
      ]
    },
    {
      "cell_type": "code",
      "source": [
        "y_pred = model_gru.predict(test_ds.map(lambda x, y: x))\n",
        "y_pred_classes = y_pred.argmax(axis=1)\n",
        "y_true = test_ds.map(lambda x, y: y)\n",
        "y_true = to_numpy(y_true)\n",
        "\n",
        "conf_matrix = confusion_matrix(y_true, y_pred_classes)\n",
        "test_accuracy = accuracy_score(y_true, y_pred_classes)\n",
        "\n",
        "plt.figure(figsize=(8, 6))\n",
        "sns.heatmap(conf_matrix, annot=True, fmt='d', cmap='Blues', xticklabels=np.unique(y_true), yticklabels=np.unique(y_true))\n",
        "plt.xlabel('Predicted')\n",
        "plt.ylabel('Actual')\n",
        "plt.title(f'Confusion Matrix GRU\\nTest Accuracy: {test_accuracy:.2f}')\n",
        "plt.show()"
      ],
      "metadata": {
        "colab": {
          "base_uri": "https://localhost:8080/",
          "height": 602
        },
        "id": "AfVjuCKislQK",
        "outputId": "cef44124-53ab-41fb-a58a-f5145f8da05e"
      },
      "execution_count": 26,
      "outputs": [
        {
          "output_type": "stream",
          "name": "stdout",
          "text": [
            "250/250 [==============================] - 1s 4ms/step\n"
          ]
        },
        {
          "output_type": "display_data",
          "data": {
            "text/plain": [
              "<Figure size 800x600 with 2 Axes>"
            ],
            "image/png": "[encoded data removed]"
          },
          "metadata": {}
        }
      ]
    },
    {
      "cell_type": "code",
      "source": [
        "import matplotlib.pyplot as plt\n",
        "\n",
        "def plot_accuracy(history, label, color):\n",
        "    accuracy = history.history['accuracy']\n",
        "    val_accuracy = history.history['val_accuracy']\n",
        "    epochs = range(len(accuracy))\n",
        "\n",
        "    plt.plot(epochs, accuracy, '--', label=f'Training Accuracy {label}', color=color)\n",
        "    plt.plot(epochs, val_accuracy, label=f'Validation Accuracy {label}', color=color)\n",
        "\n",
        "plt.figure(figsize=(12, 8))\n",
        "\n",
        "plot_accuracy(history_mlp_2, 'MLP', 'green')\n",
        "plot_accuracy(history_gru, 'GRU', 'blue')\n",
        "\n",
        "plt.title('Training and Validation Accuracy')\n",
        "plt.xlabel('Epoch')\n",
        "plt.ylabel('Accuracy')\n",
        "plt.legend()\n",
        "plt.xticks(range(0,16,2))\n",
        "\n",
        "plt.show()"
      ],
      "metadata": {
        "colab": {
          "base_uri": "https://localhost:8080/",
          "height": 718
        },
        "id": "RwfxHWr4BC5z",
        "outputId": "99561234-eef8-4f88-ce13-8ee6089cae6c"
      },
      "execution_count": 27,
      "outputs": [
        {
          "output_type": "display_data",
          "data": {
            "text/plain": [
              "<Figure size 1200x800 with 1 Axes>"
            ],
            "image/png": "[encoded data removed]"
          },
          "metadata": {}
        }
      ]
    },
    {
      "cell_type": "code",
      "source": [
        "GRU dosahuje nejlepších výsledků"
      ],
      "metadata": {
        "id": "xEZwc2WBLWTg"
      },
      "execution_count": null,
      "outputs": []
    },
    {
      "cell_type": "markdown",
      "source": [
        "Konfigurace - Google Colab GPU A100"
      ],
      "metadata": {
        "id": "llR6jhxzMK7S"
      }
    }
  ],
  "metadata": {
    "colab": {
      "provenance": [],
      "gpuType": "A100"
    },
    "kernelspec": {
      "display_name": "Python 3",
      "name": "python3"
    },
    "language_info": {
      "name": "python"
    },
    "accelerator": "GPU",
    "widgets": {
      "application/vnd.jupyter.widget-state+json": {
        "4ef480c8e5f64c98b61f6a9db2496f7a": {
          "model_module": "@jupyter-widgets/controls",
          "model_name": "HBoxModel",
          "model_module_version": "1.5.0",
          "state": {
            "_dom_classes": [],
            "_model_module": "@jupyter-widgets/controls",
            "_model_module_version": "1.5.0",
            "_model_name": "HBoxModel",
            "_view_count": null,
            "_view_module": "@jupyter-widgets/controls",
            "_view_module_version": "1.5.0",
            "_view_name": "HBoxView",
            "box_style": "",
            "children": [
              "IPY_MODEL_8b804c56732d4c578ea1e24ea6045dba",
              "IPY_MODEL_cec45d7f8d9e44dfb9a15ec1947df816",
              "IPY_MODEL_67360d4f28724e31ae3e84ebcf730d96"
            ],
            "layout": "IPY_MODEL_67e66d72c88648549181d0cc4e4305ac"
          }
        },
        "8b804c56732d4c578ea1e24ea6045dba": {
          "model_module": "@jupyter-widgets/controls",
          "model_name": "HTMLModel",
          "model_module_version": "1.5.0",
          "state": {
            "_dom_classes": [],
            "_model_module": "@jupyter-widgets/controls",
            "_model_module_version": "1.5.0",
            "_model_name": "HTMLModel",
            "_view_count": null,
            "_view_module": "@jupyter-widgets/controls",
            "_view_module_version": "1.5.0",
            "_view_name": "HTMLView",
            "description": "",
            "description_tooltip": null,
            "layout": "IPY_MODEL_4f18074d85b94a43a598475aa6c9d7bc",
            "placeholder": "​",
            "style": "IPY_MODEL_67309e2ef7e54e5fb927c61aacf70bac",
            "value": "Dl Completed...: 100%"
          }
        },
        "cec45d7f8d9e44dfb9a15ec1947df816": {
          "model_module": "@jupyter-widgets/controls",
          "model_name": "FloatProgressModel",
          "model_module_version": "1.5.0",
          "state": {
            "_dom_classes": [],
            "_model_module": "@jupyter-widgets/controls",
            "_model_module_version": "1.5.0",
            "_model_name": "FloatProgressModel",
            "_view_count": null,
            "_view_module": "@jupyter-widgets/controls",
            "_view_module_version": "1.5.0",
            "_view_name": "ProgressView",
            "bar_style": "success",
            "description": "",
            "description_tooltip": null,
            "layout": "IPY_MODEL_68de59588639430f9e881a04ea59af97",
            "max": 1,
            "min": 0,
            "orientation": "horizontal",
            "style": "IPY_MODEL_fab231c2e8c149739764eb0dd0265aaa",
            "value": 1
          }
        },
        "67360d4f28724e31ae3e84ebcf730d96": {
          "model_module": "@jupyter-widgets/controls",
          "model_name": "HTMLModel",
          "model_module_version": "1.5.0",
          "state": {
            "_dom_classes": [],
            "_model_module": "@jupyter-widgets/controls",
            "_model_module_version": "1.5.0",
            "_model_name": "HTMLModel",
            "_view_count": null,
            "_view_module": "@jupyter-widgets/controls",
            "_view_module_version": "1.5.0",
            "_view_name": "HTMLView",
            "description": "",
            "description_tooltip": null,
            "layout": "IPY_MODEL_fd953ead45134c5691b5caf757ac22ae",
            "placeholder": "​",
            "style": "IPY_MODEL_ef65153bcec34d39a2088ba1e6dfc80e",
            "value": " 2/2 [01:23&lt;00:00, 39.26s/ url]"
          }
        },
        "67e66d72c88648549181d0cc4e4305ac": {
          "model_module": "@jupyter-widgets/base",
          "model_name": "LayoutModel",
          "model_module_version": "1.2.0",
          "state": {
            "_model_module": "@jupyter-widgets/base",
            "_model_module_version": "1.2.0",
            "_model_name": "LayoutModel",
            "_view_count": null,
            "_view_module": "@jupyter-widgets/base",
            "_view_module_version": "1.2.0",
            "_view_name": "LayoutView",
            "align_content": null,
            "align_items": null,
            "align_self": null,
            "border": null,
            "bottom": null,
            "display": null,
            "flex": null,
            "flex_flow": null,
            "grid_area": null,
            "grid_auto_columns": null,
            "grid_auto_flow": null,
            "grid_auto_rows": null,
            "grid_column": null,
            "grid_gap": null,
            "grid_row": null,
            "grid_template_areas": null,
            "grid_template_columns": null,
            "grid_template_rows": null,
            "height": null,
            "justify_content": null,
            "justify_items": null,
            "left": null,
            "margin": null,
            "max_height": null,
            "max_width": null,
            "min_height": null,
            "min_width": null,
            "object_fit": null,
            "object_position": null,
            "order": null,
            "overflow": null,
            "overflow_x": null,
            "overflow_y": null,
            "padding": null,
            "right": null,
            "top": null,
            "visibility": null,
            "width": null
          }
        },
        "4f18074d85b94a43a598475aa6c9d7bc": {
          "model_module": "@jupyter-widgets/base",
          "model_name": "LayoutModel",
          "model_module_version": "1.2.0",
          "state": {
            "_model_module": "@jupyter-widgets/base",
            "_model_module_version": "1.2.0",
            "_model_name": "LayoutModel",
            "_view_count": null,
            "_view_module": "@jupyter-widgets/base",
            "_view_module_version": "1.2.0",
            "_view_name": "LayoutView",
            "align_content": null,
            "align_items": null,
            "align_self": null,
            "border": null,
            "bottom": null,
            "display": null,
            "flex": null,
            "flex_flow": null,
            "grid_area": null,
            "grid_auto_columns": null,
            "grid_auto_flow": null,
            "grid_auto_rows": null,
            "grid_column": null,
            "grid_gap": null,
            "grid_row": null,
            "grid_template_areas": null,
            "grid_template_columns": null,
            "grid_template_rows": null,
            "height": null,
            "justify_content": null,
            "justify_items": null,
            "left": null,
            "margin": null,
            "max_height": null,
            "max_width": null,
            "min_height": null,
            "min_width": null,
            "object_fit": null,
            "object_position": null,
            "order": null,
            "overflow": null,
            "overflow_x": null,
            "overflow_y": null,
            "padding": null,
            "right": null,
            "top": null,
            "visibility": null,
            "width": null
          }
        },
        "67309e2ef7e54e5fb927c61aacf70bac": {
          "model_module": "@jupyter-widgets/controls",
          "model_name": "DescriptionStyleModel",
          "model_module_version": "1.5.0",
          "state": {
            "_model_module": "@jupyter-widgets/controls",
            "_model_module_version": "1.5.0",
            "_model_name": "DescriptionStyleModel",
            "_view_count": null,
            "_view_module": "@jupyter-widgets/base",
            "_view_module_version": "1.2.0",
            "_view_name": "StyleView",
            "description_width": ""
          }
        },
        "68de59588639430f9e881a04ea59af97": {
          "model_module": "@jupyter-widgets/base",
          "model_name": "LayoutModel",
          "model_module_version": "1.2.0",
          "state": {
            "_model_module": "@jupyter-widgets/base",
            "_model_module_version": "1.2.0",
            "_model_name": "LayoutModel",
            "_view_count": null,
            "_view_module": "@jupyter-widgets/base",
            "_view_module_version": "1.2.0",
            "_view_name": "LayoutView",
            "align_content": null,
            "align_items": null,
            "align_self": null,
            "border": null,
            "bottom": null,
            "display": null,
            "flex": null,
            "flex_flow": null,
            "grid_area": null,
            "grid_auto_columns": null,
            "grid_auto_flow": null,
            "grid_auto_rows": null,
            "grid_column": null,
            "grid_gap": null,
            "grid_row": null,
            "grid_template_areas": null,
            "grid_template_columns": null,
            "grid_template_rows": null,
            "height": null,
            "justify_content": null,
            "justify_items": null,
            "left": null,
            "margin": null,
            "max_height": null,
            "max_width": null,
            "min_height": null,
            "min_width": null,
            "object_fit": null,
            "object_position": null,
            "order": null,
            "overflow": null,
            "overflow_x": null,
            "overflow_y": null,
            "padding": null,
            "right": null,
            "top": null,
            "visibility": null,
            "width": "20px"
          }
        },
        "fab231c2e8c149739764eb0dd0265aaa": {
          "model_module": "@jupyter-widgets/controls",
          "model_name": "ProgressStyleModel",
          "model_module_version": "1.5.0",
          "state": {
            "_model_module": "@jupyter-widgets/controls",
            "_model_module_version": "1.5.0",
            "_model_name": "ProgressStyleModel",
            "_view_count": null,
            "_view_module": "@jupyter-widgets/base",
            "_view_module_version": "1.2.0",
            "_view_name": "StyleView",
            "bar_color": null,
            "description_width": ""
          }
        },
        "fd953ead45134c5691b5caf757ac22ae": {
          "model_module": "@jupyter-widgets/base",
          "model_name": "LayoutModel",
          "model_module_version": "1.2.0",
          "state": {
            "_model_module": "@jupyter-widgets/base",
            "_model_module_version": "1.2.0",
            "_model_name": "LayoutModel",
            "_view_count": null,
            "_view_module": "@jupyter-widgets/base",
            "_view_module_version": "1.2.0",
            "_view_name": "LayoutView",
            "align_content": null,
            "align_items": null,
            "align_self": null,
            "border": null,
            "bottom": null,
            "display": null,
            "flex": null,
            "flex_flow": null,
            "grid_area": null,
            "grid_auto_columns": null,
            "grid_auto_flow": null,
            "grid_auto_rows": null,
            "grid_column": null,
            "grid_gap": null,
            "grid_row": null,
            "grid_template_areas": null,
            "grid_template_columns": null,
            "grid_template_rows": null,
            "height": null,
            "justify_content": null,
            "justify_items": null,
            "left": null,
            "margin": null,
            "max_height": null,
            "max_width": null,
            "min_height": null,
            "min_width": null,
            "object_fit": null,
            "object_position": null,
            "order": null,
            "overflow": null,
            "overflow_x": null,
            "overflow_y": null,
            "padding": null,
            "right": null,
            "top": null,
            "visibility": null,
            "width": null
          }
        },
        "ef65153bcec34d39a2088ba1e6dfc80e": {
          "model_module": "@jupyter-widgets/controls",
          "model_name": "DescriptionStyleModel",
          "model_module_version": "1.5.0",
          "state": {
            "_model_module": "@jupyter-widgets/controls",
            "_model_module_version": "1.5.0",
            "_model_name": "DescriptionStyleModel",
            "_view_count": null,
            "_view_module": "@jupyter-widgets/base",
            "_view_module_version": "1.2.0",
            "_view_name": "StyleView",
            "description_width": ""
          }
        },
        "0fc4f00fda4a43519d152174db577445": {
          "model_module": "@jupyter-widgets/controls",
          "model_name": "HBoxModel",
          "model_module_version": "1.5.0",
          "state": {
            "_dom_classes": [],
            "_model_module": "@jupyter-widgets/controls",
            "_model_module_version": "1.5.0",
            "_model_name": "HBoxModel",
            "_view_count": null,
            "_view_module": "@jupyter-widgets/controls",
            "_view_module_version": "1.5.0",
            "_view_name": "HBoxView",
            "box_style": "",
            "children": [
              "IPY_MODEL_2318a41cb1064716ba9e60b6aaf67bd3",
              "IPY_MODEL_62948b0cb84346179280911a55e835af",
              "IPY_MODEL_02ecac63102e47f58aea75d2da6041f0"
            ],
            "layout": "IPY_MODEL_67fbeb00e61c4e87b0c01770f614d7cd"
          }
        },
        "2318a41cb1064716ba9e60b6aaf67bd3": {
          "model_module": "@jupyter-widgets/controls",
          "model_name": "HTMLModel",
          "model_module_version": "1.5.0",
          "state": {
            "_dom_classes": [],
            "_model_module": "@jupyter-widgets/controls",
            "_model_module_version": "1.5.0",
            "_model_name": "HTMLModel",
            "_view_count": null,
            "_view_module": "@jupyter-widgets/controls",
            "_view_module_version": "1.5.0",
            "_view_name": "HTMLView",
            "description": "",
            "description_tooltip": null,
            "layout": "IPY_MODEL_1cfb4cd2f02c454da177d4b478128666",
            "placeholder": "​",
            "style": "IPY_MODEL_6671b1edd92042fb89024f7e9e3a4930",
            "value": "Dl Size...: 100%"
          }
        },
        "62948b0cb84346179280911a55e835af": {
          "model_module": "@jupyter-widgets/controls",
          "model_name": "FloatProgressModel",
          "model_module_version": "1.5.0",
          "state": {
            "_dom_classes": [],
            "_model_module": "@jupyter-widgets/controls",
            "_model_module_version": "1.5.0",
            "_model_name": "FloatProgressModel",
            "_view_count": null,
            "_view_module": "@jupyter-widgets/controls",
            "_view_module_version": "1.5.0",
            "_view_name": "ProgressView",
            "bar_style": "success",
            "description": "",
            "description_tooltip": null,
            "layout": "IPY_MODEL_9d65959c21eb4f5cac33d8e45eb3cf42",
            "max": 1,
            "min": 0,
            "orientation": "horizontal",
            "style": "IPY_MODEL_f743c2c121e44fbea1de1c727987b03d",
            "value": 1
          }
        },
        "02ecac63102e47f58aea75d2da6041f0": {
          "model_module": "@jupyter-widgets/controls",
          "model_name": "HTMLModel",
          "model_module_version": "1.5.0",
          "state": {
            "_dom_classes": [],
            "_model_module": "@jupyter-widgets/controls",
            "_model_module_version": "1.5.0",
            "_model_name": "HTMLModel",
            "_view_count": null,
            "_view_module": "@jupyter-widgets/controls",
            "_view_module_version": "1.5.0",
            "_view_name": "HTMLView",
            "description": "",
            "description_tooltip": null,
            "layout": "IPY_MODEL_bfc127d33f3a4134958c05009a745d18",
            "placeholder": "​",
            "style": "IPY_MODEL_893259e1c19d4fa59f1073c34d5af89a",
            "value": " 773/773 [01:23&lt;00:00, 15.66 MiB/s]"
          }
        },
        "67fbeb00e61c4e87b0c01770f614d7cd": {
          "model_module": "@jupyter-widgets/base",
          "model_name": "LayoutModel",
          "model_module_version": "1.2.0",
          "state": {
            "_model_module": "@jupyter-widgets/base",
            "_model_module_version": "1.2.0",
            "_model_name": "LayoutModel",
            "_view_count": null,
            "_view_module": "@jupyter-widgets/base",
            "_view_module_version": "1.2.0",
            "_view_name": "LayoutView",
            "align_content": null,
            "align_items": null,
            "align_self": null,
            "border": null,
            "bottom": null,
            "display": null,
            "flex": null,
            "flex_flow": null,
            "grid_area": null,
            "grid_auto_columns": null,
            "grid_auto_flow": null,
            "grid_auto_rows": null,
            "grid_column": null,
            "grid_gap": null,
            "grid_row": null,
            "grid_template_areas": null,
            "grid_template_columns": null,
            "grid_template_rows": null,
            "height": null,
            "justify_content": null,
            "justify_items": null,
            "left": null,
            "margin": null,
            "max_height": null,
            "max_width": null,
            "min_height": null,
            "min_width": null,
            "object_fit": null,
            "object_position": null,
            "order": null,
            "overflow": null,
            "overflow_x": null,
            "overflow_y": null,
            "padding": null,
            "right": null,
            "top": null,
            "visibility": null,
            "width": null
          }
        },
        "1cfb4cd2f02c454da177d4b478128666": {
          "model_module": "@jupyter-widgets/base",
          "model_name": "LayoutModel",
          "model_module_version": "1.2.0",
          "state": {
            "_model_module": "@jupyter-widgets/base",
            "_model_module_version": "1.2.0",
            "_model_name": "LayoutModel",
            "_view_count": null,
            "_view_module": "@jupyter-widgets/base",
            "_view_module_version": "1.2.0",
            "_view_name": "LayoutView",
            "align_content": null,
            "align_items": null,
            "align_self": null,
            "border": null,
            "bottom": null,
            "display": null,
            "flex": null,
            "flex_flow": null,
            "grid_area": null,
            "grid_auto_columns": null,
            "grid_auto_flow": null,
            "grid_auto_rows": null,
            "grid_column": null,
            "grid_gap": null,
            "grid_row": null,
            "grid_template_areas": null,
            "grid_template_columns": null,
            "grid_template_rows": null,
            "height": null,
            "justify_content": null,
            "justify_items": null,
            "left": null,
            "margin": null,
            "max_height": null,
            "max_width": null,
            "min_height": null,
            "min_width": null,
            "object_fit": null,
            "object_position": null,
            "order": null,
            "overflow": null,
            "overflow_x": null,
            "overflow_y": null,
            "padding": null,
            "right": null,
            "top": null,
            "visibility": null,
            "width": null
          }
        },
        "6671b1edd92042fb89024f7e9e3a4930": {
          "model_module": "@jupyter-widgets/controls",
          "model_name": "DescriptionStyleModel",
          "model_module_version": "1.5.0",
          "state": {
            "_model_module": "@jupyter-widgets/controls",
            "_model_module_version": "1.5.0",
            "_model_name": "DescriptionStyleModel",
            "_view_count": null,
            "_view_module": "@jupyter-widgets/base",
            "_view_module_version": "1.2.0",
            "_view_name": "StyleView",
            "description_width": ""
          }
        },
        "9d65959c21eb4f5cac33d8e45eb3cf42": {
          "model_module": "@jupyter-widgets/base",
          "model_name": "LayoutModel",
          "model_module_version": "1.2.0",
          "state": {
            "_model_module": "@jupyter-widgets/base",
            "_model_module_version": "1.2.0",
            "_model_name": "LayoutModel",
            "_view_count": null,
            "_view_module": "@jupyter-widgets/base",
            "_view_module_version": "1.2.0",
            "_view_name": "LayoutView",
            "align_content": null,
            "align_items": null,
            "align_self": null,
            "border": null,
            "bottom": null,
            "display": null,
            "flex": null,
            "flex_flow": null,
            "grid_area": null,
            "grid_auto_columns": null,
            "grid_auto_flow": null,
            "grid_auto_rows": null,
            "grid_column": null,
            "grid_gap": null,
            "grid_row": null,
            "grid_template_areas": null,
            "grid_template_columns": null,
            "grid_template_rows": null,
            "height": null,
            "justify_content": null,
            "justify_items": null,
            "left": null,
            "margin": null,
            "max_height": null,
            "max_width": null,
            "min_height": null,
            "min_width": null,
            "object_fit": null,
            "object_position": null,
            "order": null,
            "overflow": null,
            "overflow_x": null,
            "overflow_y": null,
            "padding": null,
            "right": null,
            "top": null,
            "visibility": null,
            "width": "20px"
          }
        },
        "f743c2c121e44fbea1de1c727987b03d": {
          "model_module": "@jupyter-widgets/controls",
          "model_name": "ProgressStyleModel",
          "model_module_version": "1.5.0",
          "state": {
            "_model_module": "@jupyter-widgets/controls",
            "_model_module_version": "1.5.0",
            "_model_name": "ProgressStyleModel",
            "_view_count": null,
            "_view_module": "@jupyter-widgets/base",
            "_view_module_version": "1.2.0",
            "_view_name": "StyleView",
            "bar_color": null,
            "description_width": ""
          }
        },
        "bfc127d33f3a4134958c05009a745d18": {
          "model_module": "@jupyter-widgets/base",
          "model_name": "LayoutModel",
          "model_module_version": "1.2.0",
          "state": {
            "_model_module": "@jupyter-widgets/base",
            "_model_module_version": "1.2.0",
            "_model_name": "LayoutModel",
            "_view_count": null,
            "_view_module": "@jupyter-widgets/base",
            "_view_module_version": "1.2.0",
            "_view_name": "LayoutView",
            "align_content": null,
            "align_items": null,
            "align_self": null,
            "border": null,
            "bottom": null,
            "display": null,
            "flex": null,
            "flex_flow": null,
            "grid_area": null,
            "grid_auto_columns": null,
            "grid_auto_flow": null,
            "grid_auto_rows": null,
            "grid_column": null,
            "grid_gap": null,
            "grid_row": null,
            "grid_template_areas": null,
            "grid_template_columns": null,
            "grid_template_rows": null,
            "height": null,
            "justify_content": null,
            "justify_items": null,
            "left": null,
            "margin": null,
            "max_height": null,
            "max_width": null,
            "min_height": null,
            "min_width": null,
            "object_fit": null,
            "object_position": null,
            "order": null,
            "overflow": null,
            "overflow_x": null,
            "overflow_y": null,
            "padding": null,
            "right": null,
            "top": null,
            "visibility": null,
            "width": null
          }
        },
        "893259e1c19d4fa59f1073c34d5af89a": {
          "model_module": "@jupyter-widgets/controls",
          "model_name": "DescriptionStyleModel",
          "model_module_version": "1.5.0",
          "state": {
            "_model_module": "@jupyter-widgets/controls",
            "_model_module_version": "1.5.0",
            "_model_name": "DescriptionStyleModel",
            "_view_count": null,
            "_view_module": "@jupyter-widgets/base",
            "_view_module_version": "1.2.0",
            "_view_name": "StyleView",
            "description_width": ""
          }
        },
        "c8248340ce714d7eb5625760442b12dc": {
          "model_module": "@jupyter-widgets/controls",
          "model_name": "HBoxModel",
          "model_module_version": "1.5.0",
          "state": {
            "_dom_classes": [],
            "_model_module": "@jupyter-widgets/controls",
            "_model_module_version": "1.5.0",
            "_model_name": "HBoxModel",
            "_view_count": null,
            "_view_module": "@jupyter-widgets/controls",
            "_view_module_version": "1.5.0",
            "_view_name": "HBoxView",
            "box_style": "",
            "children": [
              "IPY_MODEL_9bb51dd9aca74066819c7b333f330d99",
              "IPY_MODEL_c3c9fc87638249d4ad4f00190be55703",
              "IPY_MODEL_0ed128cf93c74e9f867bb04d151323c0"
            ],
            "layout": "IPY_MODEL_776de2ac606a449c80d165f8f9037382"
          }
        },
        "9bb51dd9aca74066819c7b333f330d99": {
          "model_module": "@jupyter-widgets/controls",
          "model_name": "HTMLModel",
          "model_module_version": "1.5.0",
          "state": {
            "_dom_classes": [],
            "_model_module": "@jupyter-widgets/controls",
            "_model_module_version": "1.5.0",
            "_model_name": "HTMLModel",
            "_view_count": null,
            "_view_module": "@jupyter-widgets/controls",
            "_view_module_version": "1.5.0",
            "_view_name": "HTMLView",
            "description": "",
            "description_tooltip": null,
            "layout": "IPY_MODEL_39b9830fbe8c4bdfbcea2352601b5deb",
            "placeholder": "​",
            "style": "IPY_MODEL_74e0883c117540a3aabd85a0d3aa3cd5",
            "value": "Extraction completed...: 100%"
          }
        },
        "c3c9fc87638249d4ad4f00190be55703": {
          "model_module": "@jupyter-widgets/controls",
          "model_name": "FloatProgressModel",
          "model_module_version": "1.5.0",
          "state": {
            "_dom_classes": [],
            "_model_module": "@jupyter-widgets/controls",
            "_model_module_version": "1.5.0",
            "_model_name": "FloatProgressModel",
            "_view_count": null,
            "_view_module": "@jupyter-widgets/controls",
            "_view_module_version": "1.5.0",
            "_view_name": "ProgressView",
            "bar_style": "success",
            "description": "",
            "description_tooltip": null,
            "layout": "IPY_MODEL_8d6fd84de50a4537a83fb4f12960ae2f",
            "max": 1,
            "min": 0,
            "orientation": "horizontal",
            "style": "IPY_MODEL_69035ffee79849d0b5edabcad31bc252",
            "value": 1
          }
        },
        "0ed128cf93c74e9f867bb04d151323c0": {
          "model_module": "@jupyter-widgets/controls",
          "model_name": "HTMLModel",
          "model_module_version": "1.5.0",
          "state": {
            "_dom_classes": [],
            "_model_module": "@jupyter-widgets/controls",
            "_model_module_version": "1.5.0",
            "_model_name": "HTMLModel",
            "_view_count": null,
            "_view_module": "@jupyter-widgets/controls",
            "_view_module_version": "1.5.0",
            "_view_name": "HTMLView",
            "description": "",
            "description_tooltip": null,
            "layout": "IPY_MODEL_9d858be3c33041cda342238bea3c3cf1",
            "placeholder": "​",
            "style": "IPY_MODEL_5292b386181d433a91cae46b5c041ac0",
            "value": " 18473/18473 [01:23&lt;00:00, 243.42 file/s]"
          }
        },
        "776de2ac606a449c80d165f8f9037382": {
          "model_module": "@jupyter-widgets/base",
          "model_name": "LayoutModel",
          "model_module_version": "1.2.0",
          "state": {
            "_model_module": "@jupyter-widgets/base",
            "_model_module_version": "1.2.0",
            "_model_name": "LayoutModel",
            "_view_count": null,
            "_view_module": "@jupyter-widgets/base",
            "_view_module_version": "1.2.0",
            "_view_name": "LayoutView",
            "align_content": null,
            "align_items": null,
            "align_self": null,
            "border": null,
            "bottom": null,
            "display": null,
            "flex": null,
            "flex_flow": null,
            "grid_area": null,
            "grid_auto_columns": null,
            "grid_auto_flow": null,
            "grid_auto_rows": null,
            "grid_column": null,
            "grid_gap": null,
            "grid_row": null,
            "grid_template_areas": null,
            "grid_template_columns": null,
            "grid_template_rows": null,
            "height": null,
            "justify_content": null,
            "justify_items": null,
            "left": null,
            "margin": null,
            "max_height": null,
            "max_width": null,
            "min_height": null,
            "min_width": null,
            "object_fit": null,
            "object_position": null,
            "order": null,
            "overflow": null,
            "overflow_x": null,
            "overflow_y": null,
            "padding": null,
            "right": null,
            "top": null,
            "visibility": null,
            "width": null
          }
        },
        "39b9830fbe8c4bdfbcea2352601b5deb": {
          "model_module": "@jupyter-widgets/base",
          "model_name": "LayoutModel",
          "model_module_version": "1.2.0",
          "state": {
            "_model_module": "@jupyter-widgets/base",
            "_model_module_version": "1.2.0",
            "_model_name": "LayoutModel",
            "_view_count": null,
            "_view_module": "@jupyter-widgets/base",
            "_view_module_version": "1.2.0",
            "_view_name": "LayoutView",
            "align_content": null,
            "align_items": null,
            "align_self": null,
            "border": null,
            "bottom": null,
            "display": null,
            "flex": null,
            "flex_flow": null,
            "grid_area": null,
            "grid_auto_columns": null,
            "grid_auto_flow": null,
            "grid_auto_rows": null,
            "grid_column": null,
            "grid_gap": null,
            "grid_row": null,
            "grid_template_areas": null,
            "grid_template_columns": null,
            "grid_template_rows": null,
            "height": null,
            "justify_content": null,
            "justify_items": null,
            "left": null,
            "margin": null,
            "max_height": null,
            "max_width": null,
            "min_height": null,
            "min_width": null,
            "object_fit": null,
            "object_position": null,
            "order": null,
            "overflow": null,
            "overflow_x": null,
            "overflow_y": null,
            "padding": null,
            "right": null,
            "top": null,
            "visibility": null,
            "width": null
          }
        },
        "74e0883c117540a3aabd85a0d3aa3cd5": {
          "model_module": "@jupyter-widgets/controls",
          "model_name": "DescriptionStyleModel",
          "model_module_version": "1.5.0",
          "state": {
            "_model_module": "@jupyter-widgets/controls",
            "_model_module_version": "1.5.0",
            "_model_name": "DescriptionStyleModel",
            "_view_count": null,
            "_view_module": "@jupyter-widgets/base",
            "_view_module_version": "1.2.0",
            "_view_name": "StyleView",
            "description_width": ""
          }
        },
        "8d6fd84de50a4537a83fb4f12960ae2f": {
          "model_module": "@jupyter-widgets/base",
          "model_name": "LayoutModel",
          "model_module_version": "1.2.0",
          "state": {
            "_model_module": "@jupyter-widgets/base",
            "_model_module_version": "1.2.0",
            "_model_name": "LayoutModel",
            "_view_count": null,
            "_view_module": "@jupyter-widgets/base",
            "_view_module_version": "1.2.0",
            "_view_name": "LayoutView",
            "align_content": null,
            "align_items": null,
            "align_self": null,
            "border": null,
            "bottom": null,
            "display": null,
            "flex": null,
            "flex_flow": null,
            "grid_area": null,
            "grid_auto_columns": null,
            "grid_auto_flow": null,
            "grid_auto_rows": null,
            "grid_column": null,
            "grid_gap": null,
            "grid_row": null,
            "grid_template_areas": null,
            "grid_template_columns": null,
            "grid_template_rows": null,
            "height": null,
            "justify_content": null,
            "justify_items": null,
            "left": null,
            "margin": null,
            "max_height": null,
            "max_width": null,
            "min_height": null,
            "min_width": null,
            "object_fit": null,
            "object_position": null,
            "order": null,
            "overflow": null,
            "overflow_x": null,
            "overflow_y": null,
            "padding": null,
            "right": null,
            "top": null,
            "visibility": null,
            "width": "20px"
          }
        },
        "69035ffee79849d0b5edabcad31bc252": {
          "model_module": "@jupyter-widgets/controls",
          "model_name": "ProgressStyleModel",
          "model_module_version": "1.5.0",
          "state": {
            "_model_module": "@jupyter-widgets/controls",
            "_model_module_version": "1.5.0",
            "_model_name": "ProgressStyleModel",
            "_view_count": null,
            "_view_module": "@jupyter-widgets/base",
            "_view_module_version": "1.2.0",
            "_view_name": "StyleView",
            "bar_color": null,
            "description_width": ""
          }
        },
        "9d858be3c33041cda342238bea3c3cf1": {
          "model_module": "@jupyter-widgets/base",
          "model_name": "LayoutModel",
          "model_module_version": "1.2.0",
          "state": {
            "_model_module": "@jupyter-widgets/base",
            "_model_module_version": "1.2.0",
            "_model_name": "LayoutModel",
            "_view_count": null,
            "_view_module": "@jupyter-widgets/base",
            "_view_module_version": "1.2.0",
            "_view_name": "LayoutView",
            "align_content": null,
            "align_items": null,
            "align_self": null,
            "border": null,
            "bottom": null,
            "display": null,
            "flex": null,
            "flex_flow": null,
            "grid_area": null,
            "grid_auto_columns": null,
            "grid_auto_flow": null,
            "grid_auto_rows": null,
            "grid_column": null,
            "grid_gap": null,
            "grid_row": null,
            "grid_template_areas": null,
            "grid_template_columns": null,
            "grid_template_rows": null,
            "height": null,
            "justify_content": null,
            "justify_items": null,
            "left": null,
            "margin": null,
            "max_height": null,
            "max_width": null,
            "min_height": null,
            "min_width": null,
            "object_fit": null,
            "object_position": null,
            "order": null,
            "overflow": null,
            "overflow_x": null,
            "overflow_y": null,
            "padding": null,
            "right": null,
            "top": null,
            "visibility": null,
            "width": null
          }
        },
        "5292b386181d433a91cae46b5c041ac0": {
          "model_module": "@jupyter-widgets/controls",
          "model_name": "DescriptionStyleModel",
          "model_module_version": "1.5.0",
          "state": {
            "_model_module": "@jupyter-widgets/controls",
            "_model_module_version": "1.5.0",
            "_model_name": "DescriptionStyleModel",
            "_view_count": null,
            "_view_module": "@jupyter-widgets/base",
            "_view_module_version": "1.2.0",
            "_view_name": "StyleView",
            "description_width": ""
          }
        },
        "a366065329904392a8bb8f0468fee8e6": {
          "model_module": "@jupyter-widgets/controls",
          "model_name": "HBoxModel",
          "model_module_version": "1.5.0",
          "state": {
            "_dom_classes": [],
            "_model_module": "@jupyter-widgets/controls",
            "_model_module_version": "1.5.0",
            "_model_name": "HBoxModel",
            "_view_count": null,
            "_view_module": "@jupyter-widgets/controls",
            "_view_module_version": "1.5.0",
            "_view_name": "HBoxView",
            "box_style": "",
            "children": [
              "IPY_MODEL_d411a69ff7304d2585ebd934ace8a427",
              "IPY_MODEL_432c3ff80347484fb037ad66c17af0af",
              "IPY_MODEL_a6cdfa892abd4e52bf012a48b72ff674"
            ],
            "layout": "IPY_MODEL_e456df97b4314325a3691a7739c8ed68"
          }
        },
        "d411a69ff7304d2585ebd934ace8a427": {
          "model_module": "@jupyter-widgets/controls",
          "model_name": "HTMLModel",
          "model_module_version": "1.5.0",
          "state": {
            "_dom_classes": [],
            "_model_module": "@jupyter-widgets/controls",
            "_model_module_version": "1.5.0",
            "_model_name": "HTMLModel",
            "_view_count": null,
            "_view_module": "@jupyter-widgets/controls",
            "_view_module_version": "1.5.0",
            "_view_name": "HTMLView",
            "description": "",
            "description_tooltip": null,
            "layout": "IPY_MODEL_a56fff2f9f5f446b89e915a8b97a5d56",
            "placeholder": "​",
            "style": "IPY_MODEL_f16cd8cdcfdf4a019bf08d7b4239aa0f",
            "value": "Generating splits...: 100%"
          }
        },
        "432c3ff80347484fb037ad66c17af0af": {
          "model_module": "@jupyter-widgets/controls",
          "model_name": "FloatProgressModel",
          "model_module_version": "1.5.0",
          "state": {
            "_dom_classes": [],
            "_model_module": "@jupyter-widgets/controls",
            "_model_module_version": "1.5.0",
            "_model_name": "FloatProgressModel",
            "_view_count": null,
            "_view_module": "@jupyter-widgets/controls",
            "_view_module_version": "1.5.0",
            "_view_name": "ProgressView",
            "bar_style": "",
            "description": "",
            "description_tooltip": null,
            "layout": "IPY_MODEL_47ef610ebae5436ca8e8a14bb5efff54",
            "max": 2,
            "min": 0,
            "orientation": "horizontal",
            "style": "IPY_MODEL_e2db716f152a4b838b2caeb47315cc93",
            "value": 2
          }
        },
        "a6cdfa892abd4e52bf012a48b72ff674": {
          "model_module": "@jupyter-widgets/controls",
          "model_name": "HTMLModel",
          "model_module_version": "1.5.0",
          "state": {
            "_dom_classes": [],
            "_model_module": "@jupyter-widgets/controls",
            "_model_module_version": "1.5.0",
            "_model_name": "HTMLModel",
            "_view_count": null,
            "_view_module": "@jupyter-widgets/controls",
            "_view_module_version": "1.5.0",
            "_view_name": "HTMLView",
            "description": "",
            "description_tooltip": null,
            "layout": "IPY_MODEL_f7bb1bbada504a329443145959bca644",
            "placeholder": "​",
            "style": "IPY_MODEL_8d3371dd15074d8eb9e7bb4014805ff6",
            "value": " 2/2 [00:05&lt;00:00,  2.70s/ splits]"
          }
        },
        "e456df97b4314325a3691a7739c8ed68": {
          "model_module": "@jupyter-widgets/base",
          "model_name": "LayoutModel",
          "model_module_version": "1.2.0",
          "state": {
            "_model_module": "@jupyter-widgets/base",
            "_model_module_version": "1.2.0",
            "_model_name": "LayoutModel",
            "_view_count": null,
            "_view_module": "@jupyter-widgets/base",
            "_view_module_version": "1.2.0",
            "_view_name": "LayoutView",
            "align_content": null,
            "align_items": null,
            "align_self": null,
            "border": null,
            "bottom": null,
            "display": null,
            "flex": null,
            "flex_flow": null,
            "grid_area": null,
            "grid_auto_columns": null,
            "grid_auto_flow": null,
            "grid_auto_rows": null,
            "grid_column": null,
            "grid_gap": null,
            "grid_row": null,
            "grid_template_areas": null,
            "grid_template_columns": null,
            "grid_template_rows": null,
            "height": null,
            "justify_content": null,
            "justify_items": null,
            "left": null,
            "margin": null,
            "max_height": null,
            "max_width": null,
            "min_height": null,
            "min_width": null,
            "object_fit": null,
            "object_position": null,
            "order": null,
            "overflow": null,
            "overflow_x": null,
            "overflow_y": null,
            "padding": null,
            "right": null,
            "top": null,
            "visibility": "hidden",
            "width": null
          }
        },
        "a56fff2f9f5f446b89e915a8b97a5d56": {
          "model_module": "@jupyter-widgets/base",
          "model_name": "LayoutModel",
          "model_module_version": "1.2.0",
          "state": {
            "_model_module": "@jupyter-widgets/base",
            "_model_module_version": "1.2.0",
            "_model_name": "LayoutModel",
            "_view_count": null,
            "_view_module": "@jupyter-widgets/base",
            "_view_module_version": "1.2.0",
            "_view_name": "LayoutView",
            "align_content": null,
            "align_items": null,
            "align_self": null,
            "border": null,
            "bottom": null,
            "display": null,
            "flex": null,
            "flex_flow": null,
            "grid_area": null,
            "grid_auto_columns": null,
            "grid_auto_flow": null,
            "grid_auto_rows": null,
            "grid_column": null,
            "grid_gap": null,
            "grid_row": null,
            "grid_template_areas": null,
            "grid_template_columns": null,
            "grid_template_rows": null,
            "height": null,
            "justify_content": null,
            "justify_items": null,
            "left": null,
            "margin": null,
            "max_height": null,
            "max_width": null,
            "min_height": null,
            "min_width": null,
            "object_fit": null,
            "object_position": null,
            "order": null,
            "overflow": null,
            "overflow_x": null,
            "overflow_y": null,
            "padding": null,
            "right": null,
            "top": null,
            "visibility": null,
            "width": null
          }
        },
        "f16cd8cdcfdf4a019bf08d7b4239aa0f": {
          "model_module": "@jupyter-widgets/controls",
          "model_name": "DescriptionStyleModel",
          "model_module_version": "1.5.0",
          "state": {
            "_model_module": "@jupyter-widgets/controls",
            "_model_module_version": "1.5.0",
            "_model_name": "DescriptionStyleModel",
            "_view_count": null,
            "_view_module": "@jupyter-widgets/base",
            "_view_module_version": "1.2.0",
            "_view_name": "StyleView",
            "description_width": ""
          }
        },
        "47ef610ebae5436ca8e8a14bb5efff54": {
          "model_module": "@jupyter-widgets/base",
          "model_name": "LayoutModel",
          "model_module_version": "1.2.0",
          "state": {
            "_model_module": "@jupyter-widgets/base",
            "_model_module_version": "1.2.0",
            "_model_name": "LayoutModel",
            "_view_count": null,
            "_view_module": "@jupyter-widgets/base",
            "_view_module_version": "1.2.0",
            "_view_name": "LayoutView",
            "align_content": null,
            "align_items": null,
            "align_self": null,
            "border": null,
            "bottom": null,
            "display": null,
            "flex": null,
            "flex_flow": null,
            "grid_area": null,
            "grid_auto_columns": null,
            "grid_auto_flow": null,
            "grid_auto_rows": null,
            "grid_column": null,
            "grid_gap": null,
            "grid_row": null,
            "grid_template_areas": null,
            "grid_template_columns": null,
            "grid_template_rows": null,
            "height": null,
            "justify_content": null,
            "justify_items": null,
            "left": null,
            "margin": null,
            "max_height": null,
            "max_width": null,
            "min_height": null,
            "min_width": null,
            "object_fit": null,
            "object_position": null,
            "order": null,
            "overflow": null,
            "overflow_x": null,
            "overflow_y": null,
            "padding": null,
            "right": null,
            "top": null,
            "visibility": null,
            "width": null
          }
        },
        "e2db716f152a4b838b2caeb47315cc93": {
          "model_module": "@jupyter-widgets/controls",
          "model_name": "ProgressStyleModel",
          "model_module_version": "1.5.0",
          "state": {
            "_model_module": "@jupyter-widgets/controls",
            "_model_module_version": "1.5.0",
            "_model_name": "ProgressStyleModel",
            "_view_count": null,
            "_view_module": "@jupyter-widgets/base",
            "_view_module_version": "1.2.0",
            "_view_name": "StyleView",
            "bar_color": null,
            "description_width": ""
          }
        },
        "f7bb1bbada504a329443145959bca644": {
          "model_module": "@jupyter-widgets/base",
          "model_name": "LayoutModel",
          "model_module_version": "1.2.0",
          "state": {
            "_model_module": "@jupyter-widgets/base",
            "_model_module_version": "1.2.0",
            "_model_name": "LayoutModel",
            "_view_count": null,
            "_view_module": "@jupyter-widgets/base",
            "_view_module_version": "1.2.0",
            "_view_name": "LayoutView",
            "align_content": null,
            "align_items": null,
            "align_self": null,
            "border": null,
            "bottom": null,
            "display": null,
            "flex": null,
            "flex_flow": null,
            "grid_area": null,
            "grid_auto_columns": null,
            "grid_auto_flow": null,
            "grid_auto_rows": null,
            "grid_column": null,
            "grid_gap": null,
            "grid_row": null,
            "grid_template_areas": null,
            "grid_template_columns": null,
            "grid_template_rows": null,
            "height": null,
            "justify_content": null,
            "justify_items": null,
            "left": null,
            "margin": null,
            "max_height": null,
            "max_width": null,
            "min_height": null,
            "min_width": null,
            "object_fit": null,
            "object_position": null,
            "order": null,
            "overflow": null,
            "overflow_x": null,
            "overflow_y": null,
            "padding": null,
            "right": null,
            "top": null,
            "visibility": null,
            "width": null
          }
        },
        "8d3371dd15074d8eb9e7bb4014805ff6": {
          "model_module": "@jupyter-widgets/controls",
          "model_name": "DescriptionStyleModel",
          "model_module_version": "1.5.0",
          "state": {
            "_model_module": "@jupyter-widgets/controls",
            "_model_module_version": "1.5.0",
            "_model_name": "DescriptionStyleModel",
            "_view_count": null,
            "_view_module": "@jupyter-widgets/base",
            "_view_module_version": "1.2.0",
            "_view_name": "StyleView",
            "description_width": ""
          }
        },
        "1450b91e327c4f90bb31c73d0c92d0be": {
          "model_module": "@jupyter-widgets/controls",
          "model_name": "HBoxModel",
          "model_module_version": "1.5.0",
          "state": {
            "_dom_classes": [],
            "_model_module": "@jupyter-widgets/controls",
            "_model_module_version": "1.5.0",
            "_model_name": "HBoxModel",
            "_view_count": null,
            "_view_module": "@jupyter-widgets/controls",
            "_view_module_version": "1.5.0",
            "_view_name": "HBoxView",
            "box_style": "",
            "children": [
              "IPY_MODEL_f0db9f8dce6d45fc9cff8953b12ba3c5",
              "IPY_MODEL_f258b17735d44945a3dcd48f9bade171",
              "IPY_MODEL_244f38fa356842ca810e099f22b4cc79"
            ],
            "layout": "IPY_MODEL_b407bbe47f2f401783be30bd83eeeb53"
          }
        },
        "f0db9f8dce6d45fc9cff8953b12ba3c5": {
          "model_module": "@jupyter-widgets/controls",
          "model_name": "HTMLModel",
          "model_module_version": "1.5.0",
          "state": {
            "_dom_classes": [],
            "_model_module": "@jupyter-widgets/controls",
            "_model_module_version": "1.5.0",
            "_model_name": "HTMLModel",
            "_view_count": null,
            "_view_module": "@jupyter-widgets/controls",
            "_view_module_version": "1.5.0",
            "_view_name": "HTMLView",
            "description": "",
            "description_tooltip": null,
            "layout": "IPY_MODEL_1317dc46064e498998db20d214946573",
            "placeholder": "​",
            "style": "IPY_MODEL_cac206c87e104fb0aec08d98b08736da",
            "value": "Generating train examples...:  87%"
          }
        },
        "f258b17735d44945a3dcd48f9bade171": {
          "model_module": "@jupyter-widgets/controls",
          "model_name": "FloatProgressModel",
          "model_module_version": "1.5.0",
          "state": {
            "_dom_classes": [],
            "_model_module": "@jupyter-widgets/controls",
            "_model_module_version": "1.5.0",
            "_model_name": "FloatProgressModel",
            "_view_count": null,
            "_view_module": "@jupyter-widgets/controls",
            "_view_module_version": "1.5.0",
            "_view_name": "ProgressView",
            "bar_style": "",
            "description": "",
            "description_tooltip": null,
            "layout": "IPY_MODEL_9ebadea5851948ff8be3b4a2ba25e109",
            "max": 3680,
            "min": 0,
            "orientation": "horizontal",
            "style": "IPY_MODEL_b3fae031469c467aac670ef7abd1c758",
            "value": 3680
          }
        },
        "244f38fa356842ca810e099f22b4cc79": {
          "model_module": "@jupyter-widgets/controls",
          "model_name": "HTMLModel",
          "model_module_version": "1.5.0",
          "state": {
            "_dom_classes": [],
            "_model_module": "@jupyter-widgets/controls",
            "_model_module_version": "1.5.0",
            "_model_name": "HTMLModel",
            "_view_count": null,
            "_view_module": "@jupyter-widgets/controls",
            "_view_module_version": "1.5.0",
            "_view_name": "HTMLView",
            "description": "",
            "description_tooltip": null,
            "layout": "IPY_MODEL_fb3d8e3fc5dc4cac9ffc02af0f5791ee",
            "placeholder": "​",
            "style": "IPY_MODEL_2ee36d61b13f4beb90b9dc812046d8c5",
            "value": " 3198/3680 [00:02&lt;00:00, 1683.49 examples/s]"
          }
        },
        "b407bbe47f2f401783be30bd83eeeb53": {
          "model_module": "@jupyter-widgets/base",
          "model_name": "LayoutModel",
          "model_module_version": "1.2.0",
          "state": {
            "_model_module": "@jupyter-widgets/base",
            "_model_module_version": "1.2.0",
            "_model_name": "LayoutModel",
            "_view_count": null,
            "_view_module": "@jupyter-widgets/base",
            "_view_module_version": "1.2.0",
            "_view_name": "LayoutView",
            "align_content": null,
            "align_items": null,
            "align_self": null,
            "border": null,
            "bottom": null,
            "display": null,
            "flex": null,
            "flex_flow": null,
            "grid_area": null,
            "grid_auto_columns": null,
            "grid_auto_flow": null,
            "grid_auto_rows": null,
            "grid_column": null,
            "grid_gap": null,
            "grid_row": null,
            "grid_template_areas": null,
            "grid_template_columns": null,
            "grid_template_rows": null,
            "height": null,
            "justify_content": null,
            "justify_items": null,
            "left": null,
            "margin": null,
            "max_height": null,
            "max_width": null,
            "min_height": null,
            "min_width": null,
            "object_fit": null,
            "object_position": null,
            "order": null,
            "overflow": null,
            "overflow_x": null,
            "overflow_y": null,
            "padding": null,
            "right": null,
            "top": null,
            "visibility": "hidden",
            "width": null
          }
        },
        "1317dc46064e498998db20d214946573": {
          "model_module": "@jupyter-widgets/base",
          "model_name": "LayoutModel",
          "model_module_version": "1.2.0",
          "state": {
            "_model_module": "@jupyter-widgets/base",
            "_model_module_version": "1.2.0",
            "_model_name": "LayoutModel",
            "_view_count": null,
            "_view_module": "@jupyter-widgets/base",
            "_view_module_version": "1.2.0",
            "_view_name": "LayoutView",
            "align_content": null,
            "align_items": null,
            "align_self": null,
            "border": null,
            "bottom": null,
            "display": null,
            "flex": null,
            "flex_flow": null,
            "grid_area": null,
            "grid_auto_columns": null,
            "grid_auto_flow": null,
            "grid_auto_rows": null,
            "grid_column": null,
            "grid_gap": null,
            "grid_row": null,
            "grid_template_areas": null,
            "grid_template_columns": null,
            "grid_template_rows": null,
            "height": null,
            "justify_content": null,
            "justify_items": null,
            "left": null,
            "margin": null,
            "max_height": null,
            "max_width": null,
            "min_height": null,
            "min_width": null,
            "object_fit": null,
            "object_position": null,
            "order": null,
            "overflow": null,
            "overflow_x": null,
            "overflow_y": null,
            "padding": null,
            "right": null,
            "top": null,
            "visibility": null,
            "width": null
          }
        },
        "cac206c87e104fb0aec08d98b08736da": {
          "model_module": "@jupyter-widgets/controls",
          "model_name": "DescriptionStyleModel",
          "model_module_version": "1.5.0",
          "state": {
            "_model_module": "@jupyter-widgets/controls",
            "_model_module_version": "1.5.0",
            "_model_name": "DescriptionStyleModel",
            "_view_count": null,
            "_view_module": "@jupyter-widgets/base",
            "_view_module_version": "1.2.0",
            "_view_name": "StyleView",
            "description_width": ""
          }
        },
        "9ebadea5851948ff8be3b4a2ba25e109": {
          "model_module": "@jupyter-widgets/base",
          "model_name": "LayoutModel",
          "model_module_version": "1.2.0",
          "state": {
            "_model_module": "@jupyter-widgets/base",
            "_model_module_version": "1.2.0",
            "_model_name": "LayoutModel",
            "_view_count": null,
            "_view_module": "@jupyter-widgets/base",
            "_view_module_version": "1.2.0",
            "_view_name": "LayoutView",
            "align_content": null,
            "align_items": null,
            "align_self": null,
            "border": null,
            "bottom": null,
            "display": null,
            "flex": null,
            "flex_flow": null,
            "grid_area": null,
            "grid_auto_columns": null,
            "grid_auto_flow": null,
            "grid_auto_rows": null,
            "grid_column": null,
            "grid_gap": null,
            "grid_row": null,
            "grid_template_areas": null,
            "grid_template_columns": null,
            "grid_template_rows": null,
            "height": null,
            "justify_content": null,
            "justify_items": null,
            "left": null,
            "margin": null,
            "max_height": null,
            "max_width": null,
            "min_height": null,
            "min_width": null,
            "object_fit": null,
            "object_position": null,
            "order": null,
            "overflow": null,
            "overflow_x": null,
            "overflow_y": null,
            "padding": null,
            "right": null,
            "top": null,
            "visibility": null,
            "width": null
          }
        },
        "b3fae031469c467aac670ef7abd1c758": {
          "model_module": "@jupyter-widgets/controls",
          "model_name": "ProgressStyleModel",
          "model_module_version": "1.5.0",
          "state": {
            "_model_module": "@jupyter-widgets/controls",
            "_model_module_version": "1.5.0",
            "_model_name": "ProgressStyleModel",
            "_view_count": null,
            "_view_module": "@jupyter-widgets/base",
            "_view_module_version": "1.2.0",
            "_view_name": "StyleView",
            "bar_color": null,
            "description_width": ""
          }
        },
        "fb3d8e3fc5dc4cac9ffc02af0f5791ee": {
          "model_module": "@jupyter-widgets/base",
          "model_name": "LayoutModel",
          "model_module_version": "1.2.0",
          "state": {
            "_model_module": "@jupyter-widgets/base",
            "_model_module_version": "1.2.0",
            "_model_name": "LayoutModel",
            "_view_count": null,
            "_view_module": "@jupyter-widgets/base",
            "_view_module_version": "1.2.0",
            "_view_name": "LayoutView",
            "align_content": null,
            "align_items": null,
            "align_self": null,
            "border": null,
            "bottom": null,
            "display": null,
            "flex": null,
            "flex_flow": null,
            "grid_area": null,
            "grid_auto_columns": null,
            "grid_auto_flow": null,
            "grid_auto_rows": null,
            "grid_column": null,
            "grid_gap": null,
            "grid_row": null,
            "grid_template_areas": null,
            "grid_template_columns": null,
            "grid_template_rows": null,
            "height": null,
            "justify_content": null,
            "justify_items": null,
            "left": null,
            "margin": null,
            "max_height": null,
            "max_width": null,
            "min_height": null,
            "min_width": null,
            "object_fit": null,
            "object_position": null,
            "order": null,
            "overflow": null,
            "overflow_x": null,
            "overflow_y": null,
            "padding": null,
            "right": null,
            "top": null,
            "visibility": null,
            "width": null
          }
        },
        "2ee36d61b13f4beb90b9dc812046d8c5": {
          "model_module": "@jupyter-widgets/controls",
          "model_name": "DescriptionStyleModel",
          "model_module_version": "1.5.0",
          "state": {
            "_model_module": "@jupyter-widgets/controls",
            "_model_module_version": "1.5.0",
            "_model_name": "DescriptionStyleModel",
            "_view_count": null,
            "_view_module": "@jupyter-widgets/base",
            "_view_module_version": "1.2.0",
            "_view_name": "StyleView",
            "description_width": ""
          }
        },
        "868e7349abe7429ca15e6cd74ad3fe0f": {
          "model_module": "@jupyter-widgets/controls",
          "model_name": "HBoxModel",
          "model_module_version": "1.5.0",
          "state": {
            "_dom_classes": [],
            "_model_module": "@jupyter-widgets/controls",
            "_model_module_version": "1.5.0",
            "_model_name": "HBoxModel",
            "_view_count": null,
            "_view_module": "@jupyter-widgets/controls",
            "_view_module_version": "1.5.0",
            "_view_name": "HBoxView",
            "box_style": "",
            "children": [
              "IPY_MODEL_4e24fd99b18f44ebbdaa7db408629be2",
              "IPY_MODEL_151d71d28b944c1d897f970ad156942c",
              "IPY_MODEL_4a0b7b98199f418bb8ba03a60d2e5883"
            ],
            "layout": "IPY_MODEL_e4bc47e898e84794844ccfc121fb3d2a"
          }
        },
        "4e24fd99b18f44ebbdaa7db408629be2": {
          "model_module": "@jupyter-widgets/controls",
          "model_name": "HTMLModel",
          "model_module_version": "1.5.0",
          "state": {
            "_dom_classes": [],
            "_model_module": "@jupyter-widgets/controls",
            "_model_module_version": "1.5.0",
            "_model_name": "HTMLModel",
            "_view_count": null,
            "_view_module": "@jupyter-widgets/controls",
            "_view_module_version": "1.5.0",
            "_view_name": "HTMLView",
            "description": "",
            "description_tooltip": null,
            "layout": "IPY_MODEL_8de6ee97c3a246fa9849405379b784a9",
            "placeholder": "​",
            "style": "IPY_MODEL_b63afa9fbb494575a22b2c3dead26593",
            "value": "Shuffling /root/tensorflow_datasets/oxford_iiit_pet/3.2.0.incompleteEILA4H/oxford_iiit_pet-train.tfrecord*...:  95%"
          }
        },
        "151d71d28b944c1d897f970ad156942c": {
          "model_module": "@jupyter-widgets/controls",
          "model_name": "FloatProgressModel",
          "model_module_version": "1.5.0",
          "state": {
            "_dom_classes": [],
            "_model_module": "@jupyter-widgets/controls",
            "_model_module_version": "1.5.0",
            "_model_name": "FloatProgressModel",
            "_view_count": null,
            "_view_module": "@jupyter-widgets/controls",
            "_view_module_version": "1.5.0",
            "_view_name": "ProgressView",
            "bar_style": "",
            "description": "",
            "description_tooltip": null,
            "layout": "IPY_MODEL_e6a1e2b325364e42a975c39bfb51cb7e",
            "max": 3680,
            "min": 0,
            "orientation": "horizontal",
            "style": "IPY_MODEL_7ac812d2b18348acb691dd92c87e960e",
            "value": 3680
          }
        },
        "4a0b7b98199f418bb8ba03a60d2e5883": {
          "model_module": "@jupyter-widgets/controls",
          "model_name": "HTMLModel",
          "model_module_version": "1.5.0",
          "state": {
            "_dom_classes": [],
            "_model_module": "@jupyter-widgets/controls",
            "_model_module_version": "1.5.0",
            "_model_name": "HTMLModel",
            "_view_count": null,
            "_view_module": "@jupyter-widgets/controls",
            "_view_module_version": "1.5.0",
            "_view_name": "HTMLView",
            "description": "",
            "description_tooltip": null,
            "layout": "IPY_MODEL_d5cc72aa05344d2c96ecae60eb5f2a15",
            "placeholder": "​",
            "style": "IPY_MODEL_2dddbca1a3784c77b72b1553f7358600",
            "value": " 3484/3680 [00:00&lt;00:00, 8814.57 examples/s]"
          }
        },
        "e4bc47e898e84794844ccfc121fb3d2a": {
          "model_module": "@jupyter-widgets/base",
          "model_name": "LayoutModel",
          "model_module_version": "1.2.0",
          "state": {
            "_model_module": "@jupyter-widgets/base",
            "_model_module_version": "1.2.0",
            "_model_name": "LayoutModel",
            "_view_count": null,
            "_view_module": "@jupyter-widgets/base",
            "_view_module_version": "1.2.0",
            "_view_name": "LayoutView",
            "align_content": null,
            "align_items": null,
            "align_self": null,
            "border": null,
            "bottom": null,
            "display": null,
            "flex": null,
            "flex_flow": null,
            "grid_area": null,
            "grid_auto_columns": null,
            "grid_auto_flow": null,
            "grid_auto_rows": null,
            "grid_column": null,
            "grid_gap": null,
            "grid_row": null,
            "grid_template_areas": null,
            "grid_template_columns": null,
            "grid_template_rows": null,
            "height": null,
            "justify_content": null,
            "justify_items": null,
            "left": null,
            "margin": null,
            "max_height": null,
            "max_width": null,
            "min_height": null,
            "min_width": null,
            "object_fit": null,
            "object_position": null,
            "order": null,
            "overflow": null,
            "overflow_x": null,
            "overflow_y": null,
            "padding": null,
            "right": null,
            "top": null,
            "visibility": "hidden",
            "width": null
          }
        },
        "8de6ee97c3a246fa9849405379b784a9": {
          "model_module": "@jupyter-widgets/base",
          "model_name": "LayoutModel",
          "model_module_version": "1.2.0",
          "state": {
            "_model_module": "@jupyter-widgets/base",
            "_model_module_version": "1.2.0",
            "_model_name": "LayoutModel",
            "_view_count": null,
            "_view_module": "@jupyter-widgets/base",
            "_view_module_version": "1.2.0",
            "_view_name": "LayoutView",
            "align_content": null,
            "align_items": null,
            "align_self": null,
            "border": null,
            "bottom": null,
            "display": null,
            "flex": null,
            "flex_flow": null,
            "grid_area": null,
            "grid_auto_columns": null,
            "grid_auto_flow": null,
            "grid_auto_rows": null,
            "grid_column": null,
            "grid_gap": null,
            "grid_row": null,
            "grid_template_areas": null,
            "grid_template_columns": null,
            "grid_template_rows": null,
            "height": null,
            "justify_content": null,
            "justify_items": null,
            "left": null,
            "margin": null,
            "max_height": null,
            "max_width": null,
            "min_height": null,
            "min_width": null,
            "object_fit": null,
            "object_position": null,
            "order": null,
            "overflow": null,
            "overflow_x": null,
            "overflow_y": null,
            "padding": null,
            "right": null,
            "top": null,
            "visibility": null,
            "width": null
          }
        },
        "b63afa9fbb494575a22b2c3dead26593": {
          "model_module": "@jupyter-widgets/controls",
          "model_name": "DescriptionStyleModel",
          "model_module_version": "1.5.0",
          "state": {
            "_model_module": "@jupyter-widgets/controls",
            "_model_module_version": "1.5.0",
            "_model_name": "DescriptionStyleModel",
            "_view_count": null,
            "_view_module": "@jupyter-widgets/base",
            "_view_module_version": "1.2.0",
            "_view_name": "StyleView",
            "description_width": ""
          }
        },
        "e6a1e2b325364e42a975c39bfb51cb7e": {
          "model_module": "@jupyter-widgets/base",
          "model_name": "LayoutModel",
          "model_module_version": "1.2.0",
          "state": {
            "_model_module": "@jupyter-widgets/base",
            "_model_module_version": "1.2.0",
            "_model_name": "LayoutModel",
            "_view_count": null,
            "_view_module": "@jupyter-widgets/base",
            "_view_module_version": "1.2.0",
            "_view_name": "LayoutView",
            "align_content": null,
            "align_items": null,
            "align_self": null,
            "border": null,
            "bottom": null,
            "display": null,
            "flex": null,
            "flex_flow": null,
            "grid_area": null,
            "grid_auto_columns": null,
            "grid_auto_flow": null,
            "grid_auto_rows": null,
            "grid_column": null,
            "grid_gap": null,
            "grid_row": null,
            "grid_template_areas": null,
            "grid_template_columns": null,
            "grid_template_rows": null,
            "height": null,
            "justify_content": null,
            "justify_items": null,
            "left": null,
            "margin": null,
            "max_height": null,
            "max_width": null,
            "min_height": null,
            "min_width": null,
            "object_fit": null,
            "object_position": null,
            "order": null,
            "overflow": null,
            "overflow_x": null,
            "overflow_y": null,
            "padding": null,
            "right": null,
            "top": null,
            "visibility": null,
            "width": null
          }
        },
        "7ac812d2b18348acb691dd92c87e960e": {
          "model_module": "@jupyter-widgets/controls",
          "model_name": "ProgressStyleModel",
          "model_module_version": "1.5.0",
          "state": {
            "_model_module": "@jupyter-widgets/controls",
            "_model_module_version": "1.5.0",
            "_model_name": "ProgressStyleModel",
            "_view_count": null,
            "_view_module": "@jupyter-widgets/base",
            "_view_module_version": "1.2.0",
            "_view_name": "StyleView",
            "bar_color": null,
            "description_width": ""
          }
        },
        "d5cc72aa05344d2c96ecae60eb5f2a15": {
          "model_module": "@jupyter-widgets/base",
          "model_name": "LayoutModel",
          "model_module_version": "1.2.0",
          "state": {
            "_model_module": "@jupyter-widgets/base",
            "_model_module_version": "1.2.0",
            "_model_name": "LayoutModel",
            "_view_count": null,
            "_view_module": "@jupyter-widgets/base",
            "_view_module_version": "1.2.0",
            "_view_name": "LayoutView",
            "align_content": null,
            "align_items": null,
            "align_self": null,
            "border": null,
            "bottom": null,
            "display": null,
            "flex": null,
            "flex_flow": null,
            "grid_area": null,
            "grid_auto_columns": null,
            "grid_auto_flow": null,
            "grid_auto_rows": null,
            "grid_column": null,
            "grid_gap": null,
            "grid_row": null,
            "grid_template_areas": null,
            "grid_template_columns": null,
            "grid_template_rows": null,
            "height": null,
            "justify_content": null,
            "justify_items": null,
            "left": null,
            "margin": null,
            "max_height": null,
            "max_width": null,
            "min_height": null,
            "min_width": null,
            "object_fit": null,
            "object_position": null,
            "order": null,
            "overflow": null,
            "overflow_x": null,
            "overflow_y": null,
            "padding": null,
            "right": null,
            "top": null,
            "visibility": null,
            "width": null
          }
        },
        "2dddbca1a3784c77b72b1553f7358600": {
          "model_module": "@jupyter-widgets/controls",
          "model_name": "DescriptionStyleModel",
          "model_module_version": "1.5.0",
          "state": {
            "_model_module": "@jupyter-widgets/controls",
            "_model_module_version": "1.5.0",
            "_model_name": "DescriptionStyleModel",
            "_view_count": null,
            "_view_module": "@jupyter-widgets/base",
            "_view_module_version": "1.2.0",
            "_view_name": "StyleView",
            "description_width": ""
          }
        },
        "6d45c701e0c74d088a0e961ba631e47c": {
          "model_module": "@jupyter-widgets/controls",
          "model_name": "HBoxModel",
          "model_module_version": "1.5.0",
          "state": {
            "_dom_classes": [],
            "_model_module": "@jupyter-widgets/controls",
            "_model_module_version": "1.5.0",
            "_model_name": "HBoxModel",
            "_view_count": null,
            "_view_module": "@jupyter-widgets/controls",
            "_view_module_version": "1.5.0",
            "_view_name": "HBoxView",
            "box_style": "",
            "children": [
              "IPY_MODEL_a42ef45f1f814c8a9622ec0626f07151",
              "IPY_MODEL_563bac02a15748848bcef56bcf1b85c3",
              "IPY_MODEL_9f02657c51ae485d84a9d7024f14c582"
            ],
            "layout": "IPY_MODEL_e7c45801b73846d4b6f6401e1e95c6b0"
          }
        },
        "a42ef45f1f814c8a9622ec0626f07151": {
          "model_module": "@jupyter-widgets/controls",
          "model_name": "HTMLModel",
          "model_module_version": "1.5.0",
          "state": {
            "_dom_classes": [],
            "_model_module": "@jupyter-widgets/controls",
            "_model_module_version": "1.5.0",
            "_model_name": "HTMLModel",
            "_view_count": null,
            "_view_module": "@jupyter-widgets/controls",
            "_view_module_version": "1.5.0",
            "_view_name": "HTMLView",
            "description": "",
            "description_tooltip": null,
            "layout": "IPY_MODEL_b21dd32bcb7c4d95926c10138644dfc2",
            "placeholder": "​",
            "style": "IPY_MODEL_b5216825971c4f42815914d766c500c9",
            "value": "Generating test examples...:  64%"
          }
        },
        "563bac02a15748848bcef56bcf1b85c3": {
          "model_module": "@jupyter-widgets/controls",
          "model_name": "FloatProgressModel",
          "model_module_version": "1.5.0",
          "state": {
            "_dom_classes": [],
            "_model_module": "@jupyter-widgets/controls",
            "_model_module_version": "1.5.0",
            "_model_name": "FloatProgressModel",
            "_view_count": null,
            "_view_module": "@jupyter-widgets/controls",
            "_view_module_version": "1.5.0",
            "_view_name": "ProgressView",
            "bar_style": "",
            "description": "",
            "description_tooltip": null,
            "layout": "IPY_MODEL_f70ea7d641b24dce83e8c1cf43da2fc9",
            "max": 3669,
            "min": 0,
            "orientation": "horizontal",
            "style": "IPY_MODEL_b422c14e660d437d9b202e0c8b6a58fa",
            "value": 3669
          }
        },
        "9f02657c51ae485d84a9d7024f14c582": {
          "model_module": "@jupyter-widgets/controls",
          "model_name": "HTMLModel",
          "model_module_version": "1.5.0",
          "state": {
            "_dom_classes": [],
            "_model_module": "@jupyter-widgets/controls",
            "_model_module_version": "1.5.0",
            "_model_name": "HTMLModel",
            "_view_count": null,
            "_view_module": "@jupyter-widgets/controls",
            "_view_module_version": "1.5.0",
            "_view_name": "HTMLView",
            "description": "",
            "description_tooltip": null,
            "layout": "IPY_MODEL_cb06035e2ed34e6a83e991100c23260b",
            "placeholder": "​",
            "style": "IPY_MODEL_f5e2bd1a6e72472891fc6eb96c227c61",
            "value": " 2364/3669 [00:01&lt;00:00, 2363.41 examples/s]"
          }
        },
        "e7c45801b73846d4b6f6401e1e95c6b0": {
          "model_module": "@jupyter-widgets/base",
          "model_name": "LayoutModel",
          "model_module_version": "1.2.0",
          "state": {
            "_model_module": "@jupyter-widgets/base",
            "_model_module_version": "1.2.0",
            "_model_name": "LayoutModel",
            "_view_count": null,
            "_view_module": "@jupyter-widgets/base",
            "_view_module_version": "1.2.0",
            "_view_name": "LayoutView",
            "align_content": null,
            "align_items": null,
            "align_self": null,
            "border": null,
            "bottom": null,
            "display": null,
            "flex": null,
            "flex_flow": null,
            "grid_area": null,
            "grid_auto_columns": null,
            "grid_auto_flow": null,
            "grid_auto_rows": null,
            "grid_column": null,
            "grid_gap": null,
            "grid_row": null,
            "grid_template_areas": null,
            "grid_template_columns": null,
            "grid_template_rows": null,
            "height": null,
            "justify_content": null,
            "justify_items": null,
            "left": null,
            "margin": null,
            "max_height": null,
            "max_width": null,
            "min_height": null,
            "min_width": null,
            "object_fit": null,
            "object_position": null,
            "order": null,
            "overflow": null,
            "overflow_x": null,
            "overflow_y": null,
            "padding": null,
            "right": null,
            "top": null,
            "visibility": "hidden",
            "width": null
          }
        },
        "b21dd32bcb7c4d95926c10138644dfc2": {
          "model_module": "@jupyter-widgets/base",
          "model_name": "LayoutModel",
          "model_module_version": "1.2.0",
          "state": {
            "_model_module": "@jupyter-widgets/base",
            "_model_module_version": "1.2.0",
            "_model_name": "LayoutModel",
            "_view_count": null,
            "_view_module": "@jupyter-widgets/base",
            "_view_module_version": "1.2.0",
            "_view_name": "LayoutView",
            "align_content": null,
            "align_items": null,
            "align_self": null,
            "border": null,
            "bottom": null,
            "display": null,
            "flex": null,
            "flex_flow": null,
            "grid_area": null,
            "grid_auto_columns": null,
            "grid_auto_flow": null,
            "grid_auto_rows": null,
            "grid_column": null,
            "grid_gap": null,
            "grid_row": null,
            "grid_template_areas": null,
            "grid_template_columns": null,
            "grid_template_rows": null,
            "height": null,
            "justify_content": null,
            "justify_items": null,
            "left": null,
            "margin": null,
            "max_height": null,
            "max_width": null,
            "min_height": null,
            "min_width": null,
            "object_fit": null,
            "object_position": null,
            "order": null,
            "overflow": null,
            "overflow_x": null,
            "overflow_y": null,
            "padding": null,
            "right": null,
            "top": null,
            "visibility": null,
            "width": null
          }
        },
        "b5216825971c4f42815914d766c500c9": {
          "model_module": "@jupyter-widgets/controls",
          "model_name": "DescriptionStyleModel",
          "model_module_version": "1.5.0",
          "state": {
            "_model_module": "@jupyter-widgets/controls",
            "_model_module_version": "1.5.0",
            "_model_name": "DescriptionStyleModel",
            "_view_count": null,
            "_view_module": "@jupyter-widgets/base",
            "_view_module_version": "1.2.0",
            "_view_name": "StyleView",
            "description_width": ""
          }
        },
        "f70ea7d641b24dce83e8c1cf43da2fc9": {
          "model_module": "@jupyter-widgets/base",
          "model_name": "LayoutModel",
          "model_module_version": "1.2.0",
          "state": {
            "_model_module": "@jupyter-widgets/base",
            "_model_module_version": "1.2.0",
            "_model_name": "LayoutModel",
            "_view_count": null,
            "_view_module": "@jupyter-widgets/base",
            "_view_module_version": "1.2.0",
            "_view_name": "LayoutView",
            "align_content": null,
            "align_items": null,
            "align_self": null,
            "border": null,
            "bottom": null,
            "display": null,
            "flex": null,
            "flex_flow": null,
            "grid_area": null,
            "grid_auto_columns": null,
            "grid_auto_flow": null,
            "grid_auto_rows": null,
            "grid_column": null,
            "grid_gap": null,
            "grid_row": null,
            "grid_template_areas": null,
            "grid_template_columns": null,
            "grid_template_rows": null,
            "height": null,
            "justify_content": null,
            "justify_items": null,
            "left": null,
            "margin": null,
            "max_height": null,
            "max_width": null,
            "min_height": null,
            "min_width": null,
            "object_fit": null,
            "object_position": null,
            "order": null,
            "overflow": null,
            "overflow_x": null,
            "overflow_y": null,
            "padding": null,
            "right": null,
            "top": null,
            "visibility": null,
            "width": null
          }
        },
        "b422c14e660d437d9b202e0c8b6a58fa": {
          "model_module": "@jupyter-widgets/controls",
          "model_name": "ProgressStyleModel",
          "model_module_version": "1.5.0",
          "state": {
            "_model_module": "@jupyter-widgets/controls",
            "_model_module_version": "1.5.0",
            "_model_name": "ProgressStyleModel",
            "_view_count": null,
            "_view_module": "@jupyter-widgets/base",
            "_view_module_version": "1.2.0",
            "_view_name": "StyleView",
            "bar_color": null,
            "description_width": ""
          }
        },
        "cb06035e2ed34e6a83e991100c23260b": {
          "model_module": "@jupyter-widgets/base",
          "model_name": "LayoutModel",
          "model_module_version": "1.2.0",
          "state": {
            "_model_module": "@jupyter-widgets/base",
            "_model_module_version": "1.2.0",
            "_model_name": "LayoutModel",
            "_view_count": null,
            "_view_module": "@jupyter-widgets/base",
            "_view_module_version": "1.2.0",
            "_view_name": "LayoutView",
            "align_content": null,
            "align_items": null,
            "align_self": null,
            "border": null,
            "bottom": null,
            "display": null,
            "flex": null,
            "flex_flow": null,
            "grid_area": null,
            "grid_auto_columns": null,
            "grid_auto_flow": null,
            "grid_auto_rows": null,
            "grid_column": null,
            "grid_gap": null,
            "grid_row": null,
            "grid_template_areas": null,
            "grid_template_columns": null,
            "grid_template_rows": null,
            "height": null,
            "justify_content": null,
            "justify_items": null,
            "left": null,
            "margin": null,
            "max_height": null,
            "max_width": null,
            "min_height": null,
            "min_width": null,
            "object_fit": null,
            "object_position": null,
            "order": null,
            "overflow": null,
            "overflow_x": null,
            "overflow_y": null,
            "padding": null,
            "right": null,
            "top": null,
            "visibility": null,
            "width": null
          }
        },
        "f5e2bd1a6e72472891fc6eb96c227c61": {
          "model_module": "@jupyter-widgets/controls",
          "model_name": "DescriptionStyleModel",
          "model_module_version": "1.5.0",
          "state": {
            "_model_module": "@jupyter-widgets/controls",
            "_model_module_version": "1.5.0",
            "_model_name": "DescriptionStyleModel",
            "_view_count": null,
            "_view_module": "@jupyter-widgets/base",
            "_view_module_version": "1.2.0",
            "_view_name": "StyleView",
            "description_width": ""
          }
        },
        "7dd92a99c3cf44d9ac709574789da50c": {
          "model_module": "@jupyter-widgets/controls",
          "model_name": "HBoxModel",
          "model_module_version": "1.5.0",
          "state": {
            "_dom_classes": [],
            "_model_module": "@jupyter-widgets/controls",
            "_model_module_version": "1.5.0",
            "_model_name": "HBoxModel",
            "_view_count": null,
            "_view_module": "@jupyter-widgets/controls",
            "_view_module_version": "1.5.0",
            "_view_name": "HBoxView",
            "box_style": "",
            "children": [
              "IPY_MODEL_72266935a1964548b87a55401d1ce73a",
              "IPY_MODEL_958f7014a8624e29bbdc5ea82fb54ed2",
              "IPY_MODEL_956d0d5a3fc04a5fa8efdd8ee0be856b"
            ],
            "layout": "IPY_MODEL_ded641d1167448098800b18a853ce90f"
          }
        },
        "72266935a1964548b87a55401d1ce73a": {
          "model_module": "@jupyter-widgets/controls",
          "model_name": "HTMLModel",
          "model_module_version": "1.5.0",
          "state": {
            "_dom_classes": [],
            "_model_module": "@jupyter-widgets/controls",
            "_model_module_version": "1.5.0",
            "_model_name": "HTMLModel",
            "_view_count": null,
            "_view_module": "@jupyter-widgets/controls",
            "_view_module_version": "1.5.0",
            "_view_name": "HTMLView",
            "description": "",
            "description_tooltip": null,
            "layout": "IPY_MODEL_c11108738ee047a2942881325961ef18",
            "placeholder": "​",
            "style": "IPY_MODEL_84ab63bf799747b3b9027671a7bb43a8",
            "value": "Shuffling /root/tensorflow_datasets/oxford_iiit_pet/3.2.0.incompleteEILA4H/oxford_iiit_pet-test.tfrecord*...:  87%"
          }
        },
        "958f7014a8624e29bbdc5ea82fb54ed2": {
          "model_module": "@jupyter-widgets/controls",
          "model_name": "FloatProgressModel",
          "model_module_version": "1.5.0",
          "state": {
            "_dom_classes": [],
            "_model_module": "@jupyter-widgets/controls",
            "_model_module_version": "1.5.0",
            "_model_name": "FloatProgressModel",
            "_view_count": null,
            "_view_module": "@jupyter-widgets/controls",
            "_view_module_version": "1.5.0",
            "_view_name": "ProgressView",
            "bar_style": "",
            "description": "",
            "description_tooltip": null,
            "layout": "IPY_MODEL_e290f4ab70a54c8299154903591e4eb3",
            "max": 3669,
            "min": 0,
            "orientation": "horizontal",
            "style": "IPY_MODEL_cf1ef49636b44a5eb42a39160da289e6",
            "value": 3669
          }
        },
        "956d0d5a3fc04a5fa8efdd8ee0be856b": {
          "model_module": "@jupyter-widgets/controls",
          "model_name": "HTMLModel",
          "model_module_version": "1.5.0",
          "state": {
            "_dom_classes": [],
            "_model_module": "@jupyter-widgets/controls",
            "_model_module_version": "1.5.0",
            "_model_name": "HTMLModel",
            "_view_count": null,
            "_view_module": "@jupyter-widgets/controls",
            "_view_module_version": "1.5.0",
            "_view_name": "HTMLView",
            "description": "",
            "description_tooltip": null,
            "layout": "IPY_MODEL_142bce1070664f0d899c6c45824fd027",
            "placeholder": "​",
            "style": "IPY_MODEL_f5aaf7fa724c4efe8b28ac86c948fb6b",
            "value": " 3202/3669 [00:00&lt;00:00, 8132.17 examples/s]"
          }
        },
        "ded641d1167448098800b18a853ce90f": {
          "model_module": "@jupyter-widgets/base",
          "model_name": "LayoutModel",
          "model_module_version": "1.2.0",
          "state": {
            "_model_module": "@jupyter-widgets/base",
            "_model_module_version": "1.2.0",
            "_model_name": "LayoutModel",
            "_view_count": null,
            "_view_module": "@jupyter-widgets/base",
            "_view_module_version": "1.2.0",
            "_view_name": "LayoutView",
            "align_content": null,
            "align_items": null,
            "align_self": null,
            "border": null,
            "bottom": null,
            "display": null,
            "flex": null,
            "flex_flow": null,
            "grid_area": null,
            "grid_auto_columns": null,
            "grid_auto_flow": null,
            "grid_auto_rows": null,
            "grid_column": null,
            "grid_gap": null,
            "grid_row": null,
            "grid_template_areas": null,
            "grid_template_columns": null,
            "grid_template_rows": null,
            "height": null,
            "justify_content": null,
            "justify_items": null,
            "left": null,
            "margin": null,
            "max_height": null,
            "max_width": null,
            "min_height": null,
            "min_width": null,
            "object_fit": null,
            "object_position": null,
            "order": null,
            "overflow": null,
            "overflow_x": null,
            "overflow_y": null,
            "padding": null,
            "right": null,
            "top": null,
            "visibility": "hidden",
            "width": null
          }
        },
        "c11108738ee047a2942881325961ef18": {
          "model_module": "@jupyter-widgets/base",
          "model_name": "LayoutModel",
          "model_module_version": "1.2.0",
          "state": {
            "_model_module": "@jupyter-widgets/base",
            "_model_module_version": "1.2.0",
            "_model_name": "LayoutModel",
            "_view_count": null,
            "_view_module": "@jupyter-widgets/base",
            "_view_module_version": "1.2.0",
            "_view_name": "LayoutView",
            "align_content": null,
            "align_items": null,
            "align_self": null,
            "border": null,
            "bottom": null,
            "display": null,
            "flex": null,
            "flex_flow": null,
            "grid_area": null,
            "grid_auto_columns": null,
            "grid_auto_flow": null,
            "grid_auto_rows": null,
            "grid_column": null,
            "grid_gap": null,
            "grid_row": null,
            "grid_template_areas": null,
            "grid_template_columns": null,
            "grid_template_rows": null,
            "height": null,
            "justify_content": null,
            "justify_items": null,
            "left": null,
            "margin": null,
            "max_height": null,
            "max_width": null,
            "min_height": null,
            "min_width": null,
            "object_fit": null,
            "object_position": null,
            "order": null,
            "overflow": null,
            "overflow_x": null,
            "overflow_y": null,
            "padding": null,
            "right": null,
            "top": null,
            "visibility": null,
            "width": null
          }
        },
        "84ab63bf799747b3b9027671a7bb43a8": {
          "model_module": "@jupyter-widgets/controls",
          "model_name": "DescriptionStyleModel",
          "model_module_version": "1.5.0",
          "state": {
            "_model_module": "@jupyter-widgets/controls",
            "_model_module_version": "1.5.0",
            "_model_name": "DescriptionStyleModel",
            "_view_count": null,
            "_view_module": "@jupyter-widgets/base",
            "_view_module_version": "1.2.0",
            "_view_name": "StyleView",
            "description_width": ""
          }
        },
        "e290f4ab70a54c8299154903591e4eb3": {
          "model_module": "@jupyter-widgets/base",
          "model_name": "LayoutModel",
          "model_module_version": "1.2.0",
          "state": {
            "_model_module": "@jupyter-widgets/base",
            "_model_module_version": "1.2.0",
            "_model_name": "LayoutModel",
            "_view_count": null,
            "_view_module": "@jupyter-widgets/base",
            "_view_module_version": "1.2.0",
            "_view_name": "LayoutView",
            "align_content": null,
            "align_items": null,
            "align_self": null,
            "border": null,
            "bottom": null,
            "display": null,
            "flex": null,
            "flex_flow": null,
            "grid_area": null,
            "grid_auto_columns": null,
            "grid_auto_flow": null,
            "grid_auto_rows": null,
            "grid_column": null,
            "grid_gap": null,
            "grid_row": null,
            "grid_template_areas": null,
            "grid_template_columns": null,
            "grid_template_rows": null,
            "height": null,
            "justify_content": null,
            "justify_items": null,
            "left": null,
            "margin": null,
            "max_height": null,
            "max_width": null,
            "min_height": null,
            "min_width": null,
            "object_fit": null,
            "object_position": null,
            "order": null,
            "overflow": null,
            "overflow_x": null,
            "overflow_y": null,
            "padding": null,
            "right": null,
            "top": null,
            "visibility": null,
            "width": null
          }
        },
        "cf1ef49636b44a5eb42a39160da289e6": {
          "model_module": "@jupyter-widgets/controls",
          "model_name": "ProgressStyleModel",
          "model_module_version": "1.5.0",
          "state": {
            "_model_module": "@jupyter-widgets/controls",
            "_model_module_version": "1.5.0",
            "_model_name": "ProgressStyleModel",
            "_view_count": null,
            "_view_module": "@jupyter-widgets/base",
            "_view_module_version": "1.2.0",
            "_view_name": "StyleView",
            "bar_color": null,
            "description_width": ""
          }
        },
        "142bce1070664f0d899c6c45824fd027": {
          "model_module": "@jupyter-widgets/base",
          "model_name": "LayoutModel",
          "model_module_version": "1.2.0",
          "state": {
            "_model_module": "@jupyter-widgets/base",
            "_model_module_version": "1.2.0",
            "_model_name": "LayoutModel",
            "_view_count": null,
            "_view_module": "@jupyter-widgets/base",
            "_view_module_version": "1.2.0",
            "_view_name": "LayoutView",
            "align_content": null,
            "align_items": null,
            "align_self": null,
            "border": null,
            "bottom": null,
            "display": null,
            "flex": null,
            "flex_flow": null,
            "grid_area": null,
            "grid_auto_columns": null,
            "grid_auto_flow": null,
            "grid_auto_rows": null,
            "grid_column": null,
            "grid_gap": null,
            "grid_row": null,
            "grid_template_areas": null,
            "grid_template_columns": null,
            "grid_template_rows": null,
            "height": null,
            "justify_content": null,
            "justify_items": null,
            "left": null,
            "margin": null,
            "max_height": null,
            "max_width": null,
            "min_height": null,
            "min_width": null,
            "object_fit": null,
            "object_position": null,
            "order": null,
            "overflow": null,
            "overflow_x": null,
            "overflow_y": null,
            "padding": null,
            "right": null,
            "top": null,
            "visibility": null,
            "width": null
          }
        },
        "f5aaf7fa724c4efe8b28ac86c948fb6b": {
          "model_module": "@jupyter-widgets/controls",
          "model_name": "DescriptionStyleModel",
          "model_module_version": "1.5.0",
          "state": {
            "_model_module": "@jupyter-widgets/controls",
            "_model_module_version": "1.5.0",
            "_model_name": "DescriptionStyleModel",
            "_view_count": null,
            "_view_module": "@jupyter-widgets/base",
            "_view_module_version": "1.2.0",
            "_view_name": "StyleView",
            "description_width": ""
          }
        }
      }
    }
  },
  "nbformat": 4,
  "nbformat_minor": 0
}